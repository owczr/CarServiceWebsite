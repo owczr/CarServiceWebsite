{
 "cells": [
  {
   "cell_type": "markdown",
   "metadata": {},
   "source": [
    "# PHP 2022"
   ]
  },
  {
   "cell_type": "markdown",
   "metadata": {},
   "source": [
    "<img src=\"https://www.php.net/images/php8/logo_php8_1.svg\" width=\"100%\" \n",
    "     style=\"background-color: #4F5B93; padding: 2em 20% 2em 20%\"/>"
   ]
  },
  {
   "cell_type": "markdown",
   "metadata": {},
   "source": [
    "## Welcome to the PHP course!"
   ]
  },
  {
   "cell_type": "markdown",
   "metadata": {},
   "source": [
    "The [Jupyter](https://jupyter.org/) notebooks will be used throughout the course to organise the exercises.  The instructions will be usually minimal, and the focus will be put on practical coding aspects. There will be two types of notebooks used in PHP course: tutorial notebooks with bash commands (Python 3 kernel) and notebooks with pure PHP code (PHP kernel). The type of used kernel can be found in the upper-right corner."
   ]
  },
  {
   "cell_type": "markdown",
   "metadata": {},
   "source": [
    "To start working with the course material, select one of below topics:\n",
    "\n",
    "01. [Witryna serwisu samochodowego](01_witryna_serwisu_samochodowego/index.ipynb)"
   ]
  }
 ],
 "metadata": {
  "kernelspec": {
   "display_name": "Python 3 (ipykernel)",
   "language": "python",
   "name": "python3"
  },
  "language_info": {
   "codemirror_mode": {
    "name": "ipython",
    "version": 3
   },
   "file_extension": ".py",
   "mimetype": "text/x-python",
   "name": "python",
   "nbconvert_exporter": "python",
   "pygments_lexer": "ipython3",
   "version": "3.10.6"
  }
 },
 "nbformat": 4,
 "nbformat_minor": 4
}
