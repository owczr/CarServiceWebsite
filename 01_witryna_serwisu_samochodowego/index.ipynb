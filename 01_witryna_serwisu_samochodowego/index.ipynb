{
 "cells": [
  {
   "cell_type": "markdown",
   "metadata": {},
   "source": [
    "# PHP 2022"
   ]
  },
  {
   "cell_type": "markdown",
   "metadata": {},
   "source": [
    "## 1. Witryna serwisu samochodowego"
   ]
  },
  {
   "cell_type": "markdown",
   "metadata": {},
   "source": [
    "This project was started from the solution of the previous exercise.\n",
    "\n",
    "#### Laravel Breeze\n",
    "\n",
    "The [Laravel Breeze](https://laravel.com/docs/9.x/starter-kits#laravel-breeze) package was installed using the ```composer require laravel/breeze --dev``` and ```php artisan breeze:install``` commands. This package enables user registration and logging into the application.\n",
    "\n",
    "An example user is added through the [database/seeders/UsersSeeder.php](../../edit/09_laravel_tdd/project/database/seeders/UsersSeeder.php) class generated using the ```php artisan make:seeder UsersSeeder``` command. The database seeding is done during the execution of the ```php artisan db:seed``` command before the database dump.\n",
    "\n",
    "The logging-in is tested in the [tests_codeception/Acceptance/Test02_LoginCest.php](../../edit/09_laravel_tdd/project/tests_codeception/Acceptance/Test02_LoginCest.php) test.\n",
    "\n",
    "Extensive testing is also done when executing the ```php artisan test``` command because the ```php artisan breeze:install``` command added many additional tests.\n",
    "\n",
    "Because there are many tests, it was possible to safely clean up PHPStan issues in the code added by ```php artisan breeze:install``` command.\n",
    "\n",
    "#### Laravel Markdown\n",
    "\n",
    "The next change done in the project was the use of the [graham-campbell/markdown](https://packagist.org/packages/graham-campbell/markdown) package, which adds support for Markdown in Laravel.\n",
    "\n",
    "The package was installed using the ```composer require graham-campbell/markdown``` command.\n",
    "\n",
    "The [tests_codeception/Acceptance/Test01_CommentsCest.php](../../edit/09_laravel_tdd/project/tests_codeception/Acceptance/Test01_CommentsCest.php) test was extended to test for adding some **bold** text. The [resources/views/comments/show.blade.php](../../edit/09_laravel_tdd/project/resources/views/comments/show.blade.php) view was updated to render the Markdown.\n",
    "\n",
    "#### Tailwind CSS\n",
    "\n",
    "The [tailwindcss](https://tailwindcss.com/) is used to style the front end. Some examples of how to build components in HTML with CSS can be found on, e.g., [flowbite](https://flowbite.com/) site.\n",
    "\n",
    "However, I am not an expert here, so there might be much better resources ;)"
   ]
  },
  {
   "cell_type": "markdown",
   "metadata": {},
   "source": [
    "Start database:"
   ]
  },
  {
   "cell_type": "code",
   "execution_count": 1,
   "metadata": {},
   "outputs": [
    {
     "name": "stdout",
     "output_type": "stream",
     "text": [
      "3a16d22cb60e7f01a625f9c822028f4b217b62d7ee66e69610e758238d0b1572\r\n"
     ]
    }
   ],
   "source": [
    "! docker run --name=mysql --net=host --rm --env MYSQL_ROOT_PASSWORD=root123 --env MYSQL_ROOT_HOST=% --env MYSQL_DATABASE=test --env MYSQL_USER=test --env MYSQL_PASSWORD=test123 -d mysql/mysql-server:8.0"
   ]
  },
  {
   "cell_type": "code",
   "execution_count": 2,
   "metadata": {},
   "outputs": [
    {
     "name": "stdout",
     "output_type": "stream",
     "text": [
      "Done.\r\n"
     ]
    }
   ],
   "source": [
    "! while ! timeout 1 bash -c \"echo > /dev/tcp/localhost/3306\" 2> /dev/null; do sleep 1; done; echo \"Done.\";"
   ]
  },
  {
   "cell_type": "markdown",
   "metadata": {},
   "source": [
    "You can test your solution using included tests:"
   ]
  },
  {
   "cell_type": "code",
   "execution_count": 4,
   "metadata": {},
   "outputs": [
    {
     "name": "stdout",
     "output_type": "stream",
     "text": [
      "/home/student/php_2022_witryna_serwisu_samochodowego/01_witryna_serwisu_samochodowego/project\n"
     ]
    }
   ],
   "source": [
    "%cd project"
   ]
  },
  {
   "cell_type": "code",
   "execution_count": 5,
   "metadata": {},
   "outputs": [
    {
     "name": "stdout",
     "output_type": "stream",
     "text": [
      "\n",
      "  Dropping all tables \u001b[90m.\u001b[39m\u001b[90m.\u001b[39m\u001b[90m.\u001b[39m\u001b[90m.\u001b[39m\u001b[90m.\u001b[39m\u001b[90m.\u001b[39m\u001b[90m.\u001b[39m\u001b[90m.\u001b[39m\u001b[90m.\u001b[39m\u001b[90m.\u001b[39m\u001b[90m.\u001b[39m\u001b[90m.\u001b[39m\u001b[90m.\u001b[39m\u001b[90m.\u001b[39m\u001b[90m.\u001b[39m\u001b[90m.\u001b[39m\u001b[90m.\u001b[39m\u001b[90m.\u001b[39m\u001b[90m.\u001b[39m\u001b[90m.\u001b[39m\u001b[90m.\u001b[39m\u001b[90m.\u001b[39m\u001b[90m.\u001b[39m\u001b[90m.\u001b[39m\u001b[90m.\u001b[39m\u001b[90m.\u001b[39m\u001b[90m.\u001b[39m\u001b[90m.\u001b[39m\u001b[90m.\u001b[39m\u001b[90m.\u001b[39m\u001b[90m.\u001b[39m\u001b[90m.\u001b[39m\u001b[90m.\u001b[39m\u001b[90m.\u001b[39m\u001b[90m.\u001b[39m\u001b[90m.\u001b[39m\u001b[90m.\u001b[39m\u001b[90m.\u001b[39m\u001b[90m.\u001b[39m\u001b[90m.\u001b[39m\u001b[90m.\u001b[39m\u001b[90m.\u001b[39m\u001b[90m.\u001b[39m\u001b[90m.\u001b[39m\u001b[90m.\u001b[39m\u001b[90m.\u001b[39m\u001b[90m 55ms\u001b[39m \u001b[32;1mDONE\u001b[39;22m\n",
      "\n",
      "  \u001b[37;44m INFO \u001b[39;49m Preparing database.  \n",
      "\n",
      "  Creating migration table \u001b[90m.\u001b[39m\u001b[90m.\u001b[39m\u001b[90m.\u001b[39m\u001b[90m.\u001b[39m\u001b[90m.\u001b[39m\u001b[90m.\u001b[39m\u001b[90m.\u001b[39m\u001b[90m.\u001b[39m\u001b[90m.\u001b[39m\u001b[90m.\u001b[39m\u001b[90m.\u001b[39m\u001b[90m.\u001b[39m\u001b[90m.\u001b[39m\u001b[90m.\u001b[39m\u001b[90m.\u001b[39m\u001b[90m.\u001b[39m\u001b[90m.\u001b[39m\u001b[90m.\u001b[39m\u001b[90m.\u001b[39m\u001b[90m.\u001b[39m\u001b[90m.\u001b[39m\u001b[90m.\u001b[39m\u001b[90m.\u001b[39m\u001b[90m.\u001b[39m\u001b[90m.\u001b[39m\u001b[90m.\u001b[39m\u001b[90m.\u001b[39m\u001b[90m.\u001b[39m\u001b[90m.\u001b[39m\u001b[90m.\u001b[39m\u001b[90m.\u001b[39m\u001b[90m.\u001b[39m\u001b[90m.\u001b[39m\u001b[90m.\u001b[39m\u001b[90m.\u001b[39m\u001b[90m.\u001b[39m\u001b[90m.\u001b[39m\u001b[90m.\u001b[39m\u001b[90m.\u001b[39m\u001b[90m.\u001b[39m\u001b[90m 107ms\u001b[39m \u001b[32;1mDONE\u001b[39;22m\n",
      "\n",
      "  \u001b[37;44m INFO \u001b[39;49m Running migrations.  \n",
      "\n",
      "  2014_10_12_000000_create_users_table \u001b[90m.\u001b[39m\u001b[90m.\u001b[39m\u001b[90m.\u001b[39m\u001b[90m.\u001b[39m\u001b[90m.\u001b[39m\u001b[90m.\u001b[39m\u001b[90m.\u001b[39m\u001b[90m.\u001b[39m\u001b[90m.\u001b[39m\u001b[90m.\u001b[39m\u001b[90m.\u001b[39m\u001b[90m.\u001b[39m\u001b[90m.\u001b[39m\u001b[90m.\u001b[39m\u001b[90m.\u001b[39m\u001b[90m.\u001b[39m\u001b[90m.\u001b[39m\u001b[90m.\u001b[39m\u001b[90m.\u001b[39m\u001b[90m.\u001b[39m\u001b[90m.\u001b[39m\u001b[90m.\u001b[39m\u001b[90m.\u001b[39m\u001b[90m.\u001b[39m\u001b[90m.\u001b[39m\u001b[90m.\u001b[39m\u001b[90m.\u001b[39m\u001b[90m.\u001b[39m\u001b[90m 374ms\u001b[39m \u001b[32;1mDONE\u001b[39;22m\n",
      "  2014_10_12_100000_create_password_resets_table \u001b[90m.\u001b[39m\u001b[90m.\u001b[39m\u001b[90m.\u001b[39m\u001b[90m.\u001b[39m\u001b[90m.\u001b[39m\u001b[90m.\u001b[39m\u001b[90m.\u001b[39m\u001b[90m.\u001b[39m\u001b[90m.\u001b[39m\u001b[90m.\u001b[39m\u001b[90m.\u001b[39m\u001b[90m.\u001b[39m\u001b[90m.\u001b[39m\u001b[90m.\u001b[39m\u001b[90m.\u001b[39m\u001b[90m.\u001b[39m\u001b[90m.\u001b[39m\u001b[90m.\u001b[39m\u001b[90m 203ms\u001b[39m \u001b[32;1mDONE\u001b[39;22m\n",
      "  2019_08_19_000000_create_failed_jobs_table \u001b[90m.\u001b[39m\u001b[90m.\u001b[39m\u001b[90m.\u001b[39m\u001b[90m.\u001b[39m\u001b[90m.\u001b[39m\u001b[90m.\u001b[39m\u001b[90m.\u001b[39m\u001b[90m.\u001b[39m\u001b[90m.\u001b[39m\u001b[90m.\u001b[39m\u001b[90m.\u001b[39m\u001b[90m.\u001b[39m\u001b[90m.\u001b[39m\u001b[90m.\u001b[39m\u001b[90m.\u001b[39m\u001b[90m.\u001b[39m\u001b[90m.\u001b[39m\u001b[90m.\u001b[39m\u001b[90m.\u001b[39m\u001b[90m.\u001b[39m\u001b[90m.\u001b[39m\u001b[90m.\u001b[39m\u001b[90m 161ms\u001b[39m \u001b[32;1mDONE\u001b[39;22m\n",
      "  2019_12_14_000001_create_personal_access_tokens_table \u001b[90m.\u001b[39m\u001b[90m.\u001b[39m\u001b[90m.\u001b[39m\u001b[90m.\u001b[39m\u001b[90m.\u001b[39m\u001b[90m.\u001b[39m\u001b[90m.\u001b[39m\u001b[90m.\u001b[39m\u001b[90m.\u001b[39m\u001b[90m.\u001b[39m\u001b[90m.\u001b[39m\u001b[90m 267ms\u001b[39m \u001b[32;1mDONE\u001b[39;22m\n",
      "  2022_11_26_090903_create_comments_table \u001b[90m.\u001b[39m\u001b[90m.\u001b[39m\u001b[90m.\u001b[39m\u001b[90m.\u001b[39m\u001b[90m.\u001b[39m\u001b[90m.\u001b[39m\u001b[90m.\u001b[39m\u001b[90m.\u001b[39m\u001b[90m.\u001b[39m\u001b[90m.\u001b[39m\u001b[90m.\u001b[39m\u001b[90m.\u001b[39m\u001b[90m.\u001b[39m\u001b[90m.\u001b[39m\u001b[90m.\u001b[39m\u001b[90m.\u001b[39m\u001b[90m.\u001b[39m\u001b[90m.\u001b[39m\u001b[90m.\u001b[39m\u001b[90m.\u001b[39m\u001b[90m.\u001b[39m\u001b[90m.\u001b[39m\u001b[90m.\u001b[39m\u001b[90m.\u001b[39m\u001b[90m.\u001b[39m\u001b[90m.\u001b[39m\u001b[90m 95ms\u001b[39m \u001b[32;1mDONE\u001b[39;22m\n",
      "  2022_12_03_201835_create_books_table \u001b[90m.\u001b[39m\u001b[90m.\u001b[39m\u001b[90m.\u001b[39m\u001b[90m.\u001b[39m\u001b[90m.\u001b[39m\u001b[90m.\u001b[39m\u001b[90m.\u001b[39m\u001b[90m.\u001b[39m\u001b[90m.\u001b[39m\u001b[90m.\u001b[39m\u001b[90m.\u001b[39m\u001b[90m.\u001b[39m\u001b[90m.\u001b[39m\u001b[90m.\u001b[39m\u001b[90m.\u001b[39m\u001b[90m.\u001b[39m\u001b[90m.\u001b[39m\u001b[90m.\u001b[39m\u001b[90m.\u001b[39m\u001b[90m.\u001b[39m\u001b[90m.\u001b[39m\u001b[90m.\u001b[39m\u001b[90m.\u001b[39m\u001b[90m.\u001b[39m\u001b[90m.\u001b[39m\u001b[90m.\u001b[39m\u001b[90m.\u001b[39m\u001b[90m.\u001b[39m\u001b[90m.\u001b[39m\u001b[90m 80ms\u001b[39m \u001b[32;1mDONE\u001b[39;22m\n",
      "  2022_12_28_155551_create_orders_table \u001b[90m.\u001b[39m\u001b[90m.\u001b[39m\u001b[90m.\u001b[39m\u001b[90m.\u001b[39m\u001b[90m.\u001b[39m\u001b[90m.\u001b[39m\u001b[90m.\u001b[39m\u001b[90m.\u001b[39m\u001b[90m.\u001b[39m\u001b[90m.\u001b[39m\u001b[90m.\u001b[39m\u001b[90m.\u001b[39m\u001b[90m.\u001b[39m\u001b[90m.\u001b[39m\u001b[90m.\u001b[39m\u001b[90m.\u001b[39m\u001b[90m.\u001b[39m\u001b[90m.\u001b[39m\u001b[90m.\u001b[39m\u001b[90m.\u001b[39m\u001b[90m.\u001b[39m\u001b[90m.\u001b[39m\u001b[90m.\u001b[39m\u001b[90m.\u001b[39m\u001b[90m.\u001b[39m\u001b[90m.\u001b[39m\u001b[90m.\u001b[39m\u001b[90m 111ms\u001b[39m \u001b[32;1mDONE\u001b[39;22m\n",
      "  2022_12_28_163305_create_repair_requests_table \u001b[90m.\u001b[39m\u001b[90m.\u001b[39m\u001b[90m.\u001b[39m\u001b[90m.\u001b[39m\u001b[90m.\u001b[39m\u001b[90m.\u001b[39m\u001b[90m.\u001b[39m\u001b[90m.\u001b[39m\u001b[90m.\u001b[39m\u001b[90m.\u001b[39m\u001b[90m.\u001b[39m\u001b[90m.\u001b[39m\u001b[90m.\u001b[39m\u001b[90m.\u001b[39m\u001b[90m.\u001b[39m\u001b[90m.\u001b[39m\u001b[90m.\u001b[39m\u001b[90m.\u001b[39m\u001b[90m 109ms\u001b[39m \u001b[32;1mDONE\u001b[39;22m\n",
      "\n"
     ]
    }
   ],
   "source": [
    "! php artisan migrate:fresh"
   ]
  },
  {
   "cell_type": "code",
   "execution_count": 6,
   "metadata": {},
   "outputs": [
    {
     "name": "stdout",
     "output_type": "stream",
     "text": [
      "\n",
      "  \u001b[37;44m INFO \u001b[39;49m Seeding database.  \n",
      "\n",
      "  Database\\Seeders\\UsersSeeder \u001b[90m.......................................\u001b[39m \u001b[33;1mRUNNING\u001b[39;22m  \n",
      "  Database\\Seeders\\UsersSeeder \u001b[90m................................\u001b[39m \u001b[90m389.84 ms\u001b[39m \u001b[32;1mDONE\u001b[39;22m  \n",
      "\n",
      "  Database\\Seeders\\RepairRequestsSeeder \u001b[90m..............................\u001b[39m \u001b[33;1mRUNNING\u001b[39;22m  \n",
      "  Database\\Seeders\\RepairRequestsSeeder \u001b[90m.......................\u001b[39m \u001b[90m114.83 ms\u001b[39m \u001b[32;1mDONE\u001b[39;22m  \n",
      "\n",
      "  Database\\Seeders\\OrdersSeeder \u001b[90m......................................\u001b[39m \u001b[33;1mRUNNING\u001b[39;22m  \n",
      "  Database\\Seeders\\OrdersSeeder \u001b[90m................................\u001b[39m \u001b[90m34.64 ms\u001b[39m \u001b[32;1mDONE\u001b[39;22m  \n",
      "\n"
     ]
    }
   ],
   "source": [
    "! php artisan db:seed"
   ]
  },
  {
   "cell_type": "code",
   "execution_count": null,
   "metadata": {},
   "outputs": [],
   "source": []
  },
  {
   "cell_type": "code",
   "execution_count": 4,
   "metadata": {},
   "outputs": [],
   "source": [
    "import subprocess\n",
    "artisanServe = subprocess.Popen(['php', 'artisan', 'serve', '--port', '8888'])"
   ]
  },
  {
   "cell_type": "code",
   "execution_count": 5,
   "metadata": {},
   "outputs": [
    {
     "name": "stdout",
     "output_type": "stream",
     "text": [
      "Codeception PHP Testing Framework v5.0.4 https://helpukrainewin.org\n",
      "\n",
      "   INFO  Server running on [http://127.0.0.1:8888].  \n",
      "\n",
      "  Press Ctrl+C to stop the server\n",
      "\n",
      "\n",
      "\u001b[1mTestsCodeception.Acceptance Tests (5) \u001b[22m------------------------------------------\n",
      "- \u001b[35;1mTest00_HomepageCest:\u001b[39;22m See Laravel links on homepage  2023-01-09 23:15:00 ................................................... ~ 0s\n",
      "\u001b[32;1m✔\u001b[39;22m \u001b[35;1mTest00_HomepageCest:\u001b[39;22m See Laravel links on homepage \u001b[32m(0.35s)\u001b[39m\n",
      "\u001b[32;1m✔\u001b[39;22m \u001b[35;1mTest01_CommentsCest:\u001b[39;22m See comments from DB displayed on page \u001b[32m(0.32s)\u001b[39m\n",
      "- \u001b[35;1mTest02_LoginCest:\u001b[39;22m Login with existing user  2023-01-09 23:15:03 ................................................... ~ 0s\n",
      "  2023-01-09 23:15:03 ................................................... ~ 0s\n",
      "  2023-01-09 23:15:05 ................................................... ~ 0s\n",
      "  2023-01-09 23:15:05 ................................................... ~ 0s\n",
      "\u001b[32;1m✔\u001b[39;22m \u001b[35;1mTest02_LoginCest:\u001b[39;22m Login with existing user \u001b[32m(0.30s)\u001b[39m\n",
      "- \u001b[35;1mTest03_RequestRepairCest:\u001b[39;22m Request a repair as a user  2023-01-09 23:15:05 ................................................... ~ 1s\n",
      "  2023-01-09 23:15:06 ................................................... ~ 0s\n",
      "  2023-01-09 23:15:08 ................................................... ~ 0s\n",
      "  2023-01-09 23:15:08 ................................................... ~ 0s\n",
      "  2023-01-09 23:15:08 ................................................... ~ 0s\n",
      "  2023-01-09 23:15:08 ................................................... ~ 0s\n",
      "  2023-01-09 23:15:08 ................................................... ~ 0s\n",
      "  2023-01-09 23:15:08 ................................................... ~ 0s\n",
      "\u001b[32;1m✔\u001b[39;22m \u001b[35;1mTest03_RequestRepairCest:\u001b[39;22m Request a repair as a user \u001b[32m(0.32s)\u001b[39m\n",
      "- \u001b[35;1mTest04_RequestedRepairsCest:\u001b[39;22m See my requested repairs  2023-01-09 23:15:08 ................................................... ~ 0s\n",
      "\u001b[32;1m✔\u001b[39;22m \u001b[35;1mTest04_RequestedRepairsCest:\u001b[39;22m See my requested repairs \u001b[32m(0.24s)\u001b[39m\n",
      "--------------------------------------------------------------------------------\n",
      "Time: 00:14.229, Memory: 14.00 MB\n",
      "\n",
      "\u001b[30;42mOK (5 tests, 34 assertions)\u001b[39;49m\n",
      "  2023-01-09 23:15:10 ................................................... ~ 0s\n",
      "  2023-01-09 23:15:10 ................................................... ~ 0s\n",
      "  2023-01-09 23:15:10 ................................................... ~ 0s\n",
      "  2023-01-09 23:15:10 ................................................... ~ 0s\n",
      "  2023-01-09 23:15:10 ................................................... ~ 0s\n"
     ]
    }
   ],
   "source": [
    "! vendor/bin/codecept run"
   ]
  },
  {
   "cell_type": "code",
   "execution_count": 49,
   "metadata": {},
   "outputs": [
    {
     "name": "stdout",
     "output_type": "stream",
     "text": [
      "\u001b[32mInstalling dependencies from lock file (including require-dev)\u001b[39m\n",
      "\u001b[32mVerifying lock file contents can be installed on current platform.\u001b[39m\n",
      "\u001b[32mPackage operations: 135 installs, 0 updates, 0 removals\u001b[39m\n",
      "  - Downloading \u001b[32mbehat/gherkin\u001b[39m (\u001b[33mv4.9.0\u001b[39m)\n",
      "  - Downloading \u001b[32msymfony/css-selector\u001b[39m (\u001b[33mv6.1.3\u001b[39m)\n",
      "  - Downloading \u001b[32mralouphie/getallheaders\u001b[39m (\u001b[33m3.0.3\u001b[39m)\n",
      "  - Downloading \u001b[32mpsr/http-message\u001b[39m (\u001b[33m1.0.1\u001b[39m)\n",
      "  - Downloading \u001b[32mpsr/http-factory\u001b[39m (\u001b[33m1.0.1\u001b[39m)\n",
      "  - Downloading \u001b[32mguzzlehttp/psr7\u001b[39m (\u001b[33m2.4.3\u001b[39m)\n",
      "  - Downloading \u001b[32msymfony/polyfill-mbstring\u001b[39m (\u001b[33mv1.27.0\u001b[39m)\n",
      "  - Downloading \u001b[32mcodeception/lib-web\u001b[39m (\u001b[33m1.0.1\u001b[39m)\n",
      "  - Downloading \u001b[32msymfony/polyfill-ctype\u001b[39m (\u001b[33mv1.27.0\u001b[39m)\n",
      "  - Downloading \u001b[32msymfony/yaml\u001b[39m (\u001b[33mv6.1.6\u001b[39m)\n",
      "  - Downloading \u001b[32msymfony/var-dumper\u001b[39m (\u001b[33mv6.1.6\u001b[39m)\n",
      "  - Downloading \u001b[32msymfony/finder\u001b[39m (\u001b[33mv6.1.3\u001b[39m)\n",
      "  - Downloading \u001b[32mpsr/event-dispatcher\u001b[39m (\u001b[33m1.0.0\u001b[39m)\n",
      "  - Downloading \u001b[32msymfony/event-dispatcher-contracts\u001b[39m (\u001b[33mv3.1.1\u001b[39m)\n",
      "  - Downloading \u001b[32msymfony/event-dispatcher\u001b[39m (\u001b[33mv6.1.0\u001b[39m)\n",
      "  - Downloading \u001b[32msymfony/polyfill-intl-normalizer\u001b[39m (\u001b[33mv1.27.0\u001b[39m)\n",
      "  - Downloading \u001b[32msymfony/polyfill-intl-grapheme\u001b[39m (\u001b[33mv1.27.0\u001b[39m)\n",
      "  - Downloading \u001b[32msymfony/console\u001b[39m (\u001b[33mv6.1.7\u001b[39m)\n",
      "  - Downloading \u001b[32msebastian/diff\u001b[39m (\u001b[33m4.0.4\u001b[39m)\n",
      "  - Downloading \u001b[32msebastian/recursion-context\u001b[39m (\u001b[33m4.0.4\u001b[39m)\n",
      "  - Downloading \u001b[32msebastian/exporter\u001b[39m (\u001b[33m4.0.5\u001b[39m)\n",
      "  - Downloading \u001b[32msebastian/comparator\u001b[39m (\u001b[33m4.0.8\u001b[39m)\n",
      "  - Downloading \u001b[32mnikic/php-parser\u001b[39m (\u001b[33mv4.15.2\u001b[39m)\n",
      "  - Downloading \u001b[32mpsy/psysh\u001b[39m (\u001b[33mv0.11.9\u001b[39m)\n",
      "  - Downloading \u001b[32msebastian/version\u001b[39m (\u001b[33m3.0.2\u001b[39m)\n",
      "  - Downloading \u001b[32msebastian/type\u001b[39m (\u001b[33m3.2.0\u001b[39m)\n",
      "  - Downloading \u001b[32msebastian/resource-operations\u001b[39m (\u001b[33m3.0.3\u001b[39m)\n",
      "  - Downloading \u001b[32msebastian/object-reflector\u001b[39m (\u001b[33m2.0.4\u001b[39m)\n",
      "  - Downloading \u001b[32msebastian/object-enumerator\u001b[39m (\u001b[33m4.0.4\u001b[39m)\n",
      "  - Downloading \u001b[32msebastian/global-state\u001b[39m (\u001b[33m5.0.5\u001b[39m)\n",
      "  - Downloading \u001b[32msebastian/environment\u001b[39m (\u001b[33m5.1.4\u001b[39m)\n",
      "  - Downloading \u001b[32msebastian/code-unit\u001b[39m (\u001b[33m1.0.8\u001b[39m)\n",
      "  - Downloading \u001b[32msebastian/cli-parser\u001b[39m (\u001b[33m1.0.1\u001b[39m)\n",
      "  - Downloading \u001b[32mphpunit/php-timer\u001b[39m (\u001b[33m5.0.3\u001b[39m)\n",
      "  - Downloading \u001b[32mphpunit/php-text-template\u001b[39m (\u001b[33m2.0.4\u001b[39m)\n",
      "  - Downloading \u001b[32mphpunit/php-invoker\u001b[39m (\u001b[33m3.1.1\u001b[39m)\n",
      "  - Downloading \u001b[32mphpunit/php-file-iterator\u001b[39m (\u001b[33m3.0.6\u001b[39m)\n",
      "  - Downloading \u001b[32mtheseer/tokenizer\u001b[39m (\u001b[33m1.2.1\u001b[39m)\n",
      "  - Downloading \u001b[32msebastian/lines-of-code\u001b[39m (\u001b[33m1.0.3\u001b[39m)\n",
      "  - Downloading \u001b[32msebastian/complexity\u001b[39m (\u001b[33m2.0.2\u001b[39m)\n",
      "  - Downloading \u001b[32msebastian/code-unit-reverse-lookup\u001b[39m (\u001b[33m2.0.3\u001b[39m)\n",
      "  - Downloading \u001b[32mphpunit/php-code-coverage\u001b[39m (\u001b[33m9.2.19\u001b[39m)\n",
      "  - Downloading \u001b[32mphar-io/version\u001b[39m (\u001b[33m3.2.1\u001b[39m)\n",
      "  - Downloading \u001b[32mphar-io/manifest\u001b[39m (\u001b[33m2.0.3\u001b[39m)\n",
      "  - Downloading \u001b[32mmyclabs/deep-copy\u001b[39m (\u001b[33m1.11.0\u001b[39m)\n",
      "  - Downloading \u001b[32mdoctrine/instantiator\u001b[39m (\u001b[33m1.4.1\u001b[39m)\n",
      "  - Downloading \u001b[32mphpunit/phpunit\u001b[39m (\u001b[33m9.5.26\u001b[39m)\n",
      "  - Downloading \u001b[32mcodeception/stub\u001b[39m (\u001b[33m4.0.2\u001b[39m)\n",
      "  - Downloading \u001b[32mcodeception/lib-asserts\u001b[39m (\u001b[33m2.0.1\u001b[39m)\n",
      "  - Downloading \u001b[32mcodeception/codeception\u001b[39m (\u001b[33m5.0.4\u001b[39m)\n",
      "  - Downloading \u001b[32mcodeception/module-asserts\u001b[39m (\u001b[33m3.0.0\u001b[39m)\n",
      "  - Downloading \u001b[32mcodeception/module-db\u001b[39m (\u001b[33m3.0.1\u001b[39m)\n",
      "  - Downloading \u001b[32mmasterminds/html5\u001b[39m (\u001b[33m2.7.6\u001b[39m)\n",
      "  - Downloading \u001b[32msymfony/dom-crawler\u001b[39m (\u001b[33mv6.1.7\u001b[39m)\n",
      "  - Downloading \u001b[32msymfony/browser-kit\u001b[39m (\u001b[33mv6.1.3\u001b[39m)\n",
      "  - Downloading \u001b[32mpsr/http-client\u001b[39m (\u001b[33m1.0.1\u001b[39m)\n",
      "  - Downloading \u001b[32mguzzlehttp/promises\u001b[39m (\u001b[33m1.5.2\u001b[39m)\n",
      "  - Downloading \u001b[32mguzzlehttp/guzzle\u001b[39m (\u001b[33m7.5.0\u001b[39m)\n",
      "  - Downloading \u001b[32mcodeception/lib-innerbrowser\u001b[39m (\u001b[33m3.1.3\u001b[39m)\n",
      "  - Downloading \u001b[32mcodeception/module-phpbrowser\u001b[39m (\u001b[33m3.0.0\u001b[39m)\n",
      "  - Downloading \u001b[32mcomposer/pcre\u001b[39m (\u001b[33m3.1.0\u001b[39m)\n",
      "  - Downloading \u001b[32mdoctrine/inflector\u001b[39m (\u001b[33m2.0.6\u001b[39m)\n",
      "  - Downloading \u001b[32mdoctrine/lexer\u001b[39m (\u001b[33m1.2.3\u001b[39m)\n",
      "  - Downloading \u001b[32mwebmozart/assert\u001b[39m (\u001b[33m1.11.0\u001b[39m)\n",
      "  - Downloading \u001b[32mdragonmantank/cron-expression\u001b[39m (\u001b[33mv3.3.2\u001b[39m)\n",
      "  - Downloading \u001b[32mfakerphp/faker\u001b[39m (\u001b[33mv1.20.0\u001b[39m)\n",
      "  - Downloading \u001b[32msymfony/stopwatch\u001b[39m (\u001b[33mv6.1.5\u001b[39m)\n",
      "  - Downloading \u001b[32msymfony/process\u001b[39m (\u001b[33mv6.1.3\u001b[39m)\n",
      "  - Downloading \u001b[32msymfony/polyfill-php81\u001b[39m (\u001b[33mv1.27.0\u001b[39m)\n",
      "  - Downloading \u001b[32msymfony/polyfill-php80\u001b[39m (\u001b[33mv1.27.0\u001b[39m)\n",
      "  - Downloading \u001b[32msymfony/options-resolver\u001b[39m (\u001b[33mv6.1.0\u001b[39m)\n",
      "  - Downloading \u001b[32msymfony/filesystem\u001b[39m (\u001b[33mv6.1.5\u001b[39m)\n",
      "  - Downloading \u001b[32mpsr/cache\u001b[39m (\u001b[33m3.0.0\u001b[39m)\n",
      "  - Downloading \u001b[32mdoctrine/annotations\u001b[39m (\u001b[33m1.13.3\u001b[39m)\n",
      "  - Downloading \u001b[32mpsr/log\u001b[39m (\u001b[33m3.0.0\u001b[39m)\n",
      "  - Downloading \u001b[32mcomposer/xdebug-handler\u001b[39m (\u001b[33m3.0.3\u001b[39m)\n",
      "  - Downloading \u001b[32mcomposer/semver\u001b[39m (\u001b[33m3.3.2\u001b[39m)\n",
      "  - Downloading \u001b[32mfriendsofphp/php-cs-fixer\u001b[39m (\u001b[33mv3.13.0\u001b[39m)\n",
      "  - Downloading \u001b[32msymfony/http-foundation\u001b[39m (\u001b[33mv6.1.7\u001b[39m)\n",
      "  - Downloading \u001b[32mfruitcake/php-cors\u001b[39m (\u001b[33mv1.2.0\u001b[39m)\n",
      "  - Downloading \u001b[32mnette/utils\u001b[39m (\u001b[33mv3.2.8\u001b[39m)\n",
      "  - Downloading \u001b[32mnette/schema\u001b[39m (\u001b[33mv1.2.3\u001b[39m)\n",
      "  - Downloading \u001b[32mdflydev/dot-access-data\u001b[39m (\u001b[33mv3.0.2\u001b[39m)\n",
      "  - Downloading \u001b[32mleague/config\u001b[39m (\u001b[33mv1.1.1\u001b[39m)\n",
      "  - Downloading \u001b[32mleague/commonmark\u001b[39m (\u001b[33m2.3.7\u001b[39m)\n",
      "  - Downloading \u001b[32mvoku/portable-ascii\u001b[39m (\u001b[33m2.0.1\u001b[39m)\n",
      "  - Downloading \u001b[32mphpoption/phpoption\u001b[39m (\u001b[33m1.9.0\u001b[39m)\n",
      "  - Downloading \u001b[32mgraham-campbell/result-type\u001b[39m (\u001b[33mv1.1.0\u001b[39m)\n",
      "  - Downloading \u001b[32mvlucas/phpdotenv\u001b[39m (\u001b[33mv5.5.0\u001b[39m)\n",
      "  - Downloading \u001b[32mtijsverkoyen/css-to-inline-styles\u001b[39m (\u001b[33m2.2.5\u001b[39m)\n",
      "  - Downloading \u001b[32msymfony/polyfill-uuid\u001b[39m (\u001b[33mv1.27.0\u001b[39m)\n",
      "  - Downloading \u001b[32msymfony/uid\u001b[39m (\u001b[33mv6.1.5\u001b[39m)\n",
      "  - Downloading \u001b[32msymfony/routing\u001b[39m (\u001b[33mv6.1.7\u001b[39m)\n",
      "  - Downloading \u001b[32msymfony/polyfill-php72\u001b[39m (\u001b[33mv1.27.0\u001b[39m)\n",
      "  - Downloading \u001b[32msymfony/polyfill-intl-idn\u001b[39m (\u001b[33mv1.27.0\u001b[39m)\n",
      "  - Downloading \u001b[32msymfony/mime\u001b[39m (\u001b[33mv6.1.7\u001b[39m)\n",
      "  - Downloading \u001b[32megulias/email-validator\u001b[39m (\u001b[33m3.2.1\u001b[39m)\n",
      "  - Downloading \u001b[32msymfony/mailer\u001b[39m (\u001b[33mv6.1.7\u001b[39m)\n",
      "  - Downloading \u001b[32msymfony/error-handler\u001b[39m (\u001b[33mv6.1.7\u001b[39m)\n",
      "  - Downloading \u001b[32msymfony/http-kernel\u001b[39m (\u001b[33mv6.1.7\u001b[39m)\n",
      "  - Downloading \u001b[32mramsey/uuid\u001b[39m (\u001b[33m4.6.0\u001b[39m)\n",
      "  - Downloading \u001b[32mpsr/simple-cache\u001b[39m (\u001b[33m3.0.0\u001b[39m)\n",
      "  - Downloading \u001b[32mnunomaduro/termwind\u001b[39m (\u001b[33mv1.14.2\u001b[39m)\n",
      "  - Downloading \u001b[32msymfony/translation-contracts\u001b[39m (\u001b[33mv3.1.1\u001b[39m)\n",
      "  - Downloading \u001b[32msymfony/translation\u001b[39m (\u001b[33mv6.1.6\u001b[39m)\n",
      "  - Downloading \u001b[32mnesbot/carbon\u001b[39m (\u001b[33m2.63.0\u001b[39m)\n",
      "  - Downloading \u001b[32mmonolog/monolog\u001b[39m (\u001b[33m2.8.0\u001b[39m)\n",
      "  - Downloading \u001b[32mleague/mime-type-detection\u001b[39m (\u001b[33m1.11.0\u001b[39m)\n",
      "  - Downloading \u001b[32mleague/flysystem\u001b[39m (\u001b[33m3.10.3\u001b[39m)\n",
      "  - Downloading \u001b[32mlaravel/serializable-closure\u001b[39m (\u001b[33mv1.2.2\u001b[39m)\n",
      "  - Downloading \u001b[32mlaravel/framework\u001b[39m (\u001b[33mv9.40.1\u001b[39m)\n",
      "  - Downloading \u001b[32mgraham-campbell/markdown\u001b[39m (\u001b[33mv14.0.0\u001b[39m)\n",
      "  - Downloading \u001b[32mhamcrest/hamcrest-php\u001b[39m (\u001b[33mv2.0.1\u001b[39m)\n",
      "  - Downloading \u001b[32mlaravel/breeze\u001b[39m (\u001b[33mv1.15.3\u001b[39m)\n",
      "  - Downloading \u001b[32mlaravel/pint\u001b[39m (\u001b[33mv1.2.0\u001b[39m)\n",
      "  - Downloading \u001b[32mlaravel/sail\u001b[39m (\u001b[33mv1.16.2\u001b[39m)\n",
      "  - Downloading \u001b[32mlaravel/sanctum\u001b[39m (\u001b[33mv3.0.1\u001b[39m)\n",
      "  - Downloading \u001b[32mlaravel/tinker\u001b[39m (\u001b[33mv2.7.3\u001b[39m)\n",
      "  - Downloading \u001b[32mfilp/whoops\u001b[39m (\u001b[33m2.14.6\u001b[39m)\n",
      "  - Downloading \u001b[32mnunomaduro/collision\u001b[39m (\u001b[33mv6.3.1\u001b[39m)\n",
      "  - Downloading \u001b[32mphpstan/phpstan\u001b[39m (\u001b[33m1.9.2\u001b[39m)\n",
      "  - Downloading \u001b[32mphpmyadmin/sql-parser\u001b[39m (\u001b[33m5.5.0\u001b[39m)\n",
      "  - Downloading \u001b[32mmockery/mockery\u001b[39m (\u001b[33m1.5.1\u001b[39m)\n",
      "  - Downloading \u001b[32mnunomaduro/larastan\u001b[39m (\u001b[33m2.2.9\u001b[39m)\n",
      "  - Downloading \u001b[32msebastian/phpcpd\u001b[39m (\u001b[33m6.0.3\u001b[39m)\n",
      "  - Downloading \u001b[32mspatie/backtrace\u001b[39m (\u001b[33m1.2.1\u001b[39m)\n",
      "  - Downloading \u001b[32mspatie/flare-client-php\u001b[39m (\u001b[33m1.3.1\u001b[39m)\n",
      "  - Downloading \u001b[32mspatie/ignition\u001b[39m (\u001b[33m1.4.1\u001b[39m)\n",
      "  - Downloading \u001b[32mspatie/laravel-ignition\u001b[39m (\u001b[33m1.6.1\u001b[39m)\n"
     ]
    },
    {
     "name": "stdout",
     "output_type": "stream",
     "text": [
      "   0/129 [>---------------------------]   0%\u001b[1G\u001b[2K   3/129 [>---------------------------]   2%\u001b[1G\u001b[2K  11/129 [==>-------------------------]   8%\u001b[1G\u001b[2K  13/129 [==>-------------------------]  10%\u001b[1G\u001b[2K  22/129 [====>-----------------------]  17%\u001b[1G\u001b[2K  25/129 [=====>----------------------]  19%\u001b[1G\u001b[2K  27/129 [=====>----------------------]  20%\u001b[1G\u001b[2K  31/129 [======>---------------------]  24%\u001b[1G\u001b[2K  41/129 [========>-------------------]  31%\u001b[1G\u001b[2K  43/129 [=========>------------------]  33%\u001b[1G\u001b[2K  48/129 [==========>-----------------]  37%\u001b[1G\u001b[2K  51/129 [===========>----------------]  39%\u001b[1G\u001b[2K  53/129 [===========>----------------]  41%\u001b[1G\u001b[2K  58/129 [============>---------------]  44%\u001b[1G\u001b[2K  65/129 [==============>-------------]  50%\u001b[1G\u001b[2K  66/129 [==============>-------------]  51%\u001b[1G\u001b[2K  75/129 [================>-----------]  58%\u001b[1G\u001b[2K  77/129 [================>-----------]  59%\u001b[1G\u001b[2K  78/129 [================>-----------]  60%\u001b[1G\u001b[2K  82/129 [=================>----------]  63%\u001b[1G\u001b[2K  84/129 [==================>---------]  65%\u001b[1G\u001b[2K  88/129 [===================>--------]  68%\u001b[1G\u001b[2K  90/129 [===================>--------]  69%\u001b[1G\u001b[2K  93/129 [====================>-------]  72%\u001b[1G\u001b[2K  94/129 [====================>-------]  72%\u001b[1G\u001b[2K  96/129 [====================>-------]  74%\u001b[1G\u001b[2K  98/129 [=====================>------]  75%\u001b[1G\u001b[2K 100/129 [=====================>------]  77%\u001b[1G\u001b[2K 101/129 [=====================>------]  78%\u001b[1G\u001b[2K 102/129 [======================>-----]  79%\u001b[1G\u001b[2K 103/129 [======================>-----]  79%\u001b[1G\u001b[2K 104/129 [======================>-----]  80%\u001b[1G\u001b[2K 109/129 [=======================>----]  84%\u001b[1G\u001b[2K 111/129 [========================>---]  86%\u001b[1G\u001b[2K 112/129 [========================>---]  86%\u001b[1G\u001b[2K 115/129 [========================>---]  89%\u001b[1G\u001b[2K 117/129 [=========================>--]  90%\u001b[1G\u001b[2K 118/129 [=========================>--]  91%\u001b[1G\u001b[2K 119/129 [=========================>--]  92%\u001b[1G\u001b[2K 120/129 [==========================>-]  93%\u001b[1G\u001b[2K 122/129 [==========================>-]  94%\u001b[1G\u001b[2K 124/129 [==========================>-]  96%\u001b[1G\u001b[2K 125/129 [===========================>]  96%\u001b[1G\u001b[2K 126/129 [===========================>]  97%\u001b[1G\u001b[2K 127/129 [===========================>]  98%\u001b[1G\u001b[2K 128/129 [===========================>]  99%\u001b[1G\u001b[2K 129/129 [============================] 100%\u001b[1G\u001b[2K  - Installing \u001b[32mbehat/gherkin\u001b[39m (\u001b[33mv4.9.0\u001b[39m): Extracting archive\n",
      "  - Installing \u001b[32msymfony/css-selector\u001b[39m (\u001b[33mv6.1.3\u001b[39m): Extracting archive\n",
      "  - Installing \u001b[32mralouphie/getallheaders\u001b[39m (\u001b[33m3.0.3\u001b[39m): Extracting archive\n",
      "  - Installing \u001b[32mpsr/http-message\u001b[39m (\u001b[33m1.0.1\u001b[39m): Extracting archive\n",
      "  - Installing \u001b[32mpsr/http-factory\u001b[39m (\u001b[33m1.0.1\u001b[39m): Extracting archive\n",
      "  - Installing \u001b[32mguzzlehttp/psr7\u001b[39m (\u001b[33m2.4.3\u001b[39m): Extracting archive\n",
      "  - Installing \u001b[32msymfony/polyfill-mbstring\u001b[39m (\u001b[33mv1.27.0\u001b[39m): Extracting archive\n",
      "  - Installing \u001b[32mcodeception/lib-web\u001b[39m (\u001b[33m1.0.1\u001b[39m): Extracting archive\n",
      "  - Installing \u001b[32msymfony/polyfill-ctype\u001b[39m (\u001b[33mv1.27.0\u001b[39m): Extracting archive\n",
      "  - Installing \u001b[32msymfony/yaml\u001b[39m (\u001b[33mv6.1.6\u001b[39m): Extracting archive\n",
      "  - Installing \u001b[32msymfony/var-dumper\u001b[39m (\u001b[33mv6.1.6\u001b[39m): Extracting archive\n",
      "  - Installing \u001b[32msymfony/finder\u001b[39m (\u001b[33mv6.1.3\u001b[39m): Extracting archive\n",
      "  - Installing \u001b[32mpsr/event-dispatcher\u001b[39m (\u001b[33m1.0.0\u001b[39m): Extracting archive\n",
      "  - Installing \u001b[32msymfony/event-dispatcher-contracts\u001b[39m (\u001b[33mv3.1.1\u001b[39m): Extracting archive\n",
      "  - Installing \u001b[32msymfony/event-dispatcher\u001b[39m (\u001b[33mv6.1.0\u001b[39m): Extracting archive\n",
      "  - Installing \u001b[32msymfony/polyfill-intl-normalizer\u001b[39m (\u001b[33mv1.27.0\u001b[39m): Extracting archive\n",
      "  - Installing \u001b[32msymfony/polyfill-intl-grapheme\u001b[39m (\u001b[33mv1.27.0\u001b[39m): Extracting archive\n",
      "  - Installing \u001b[32msymfony/string\u001b[39m (\u001b[33mv6.1.7\u001b[39m): Extracting archive\n",
      "  - Installing \u001b[32mpsr/container\u001b[39m (\u001b[33m2.0.2\u001b[39m): Extracting archive\n",
      "  - Installing \u001b[32msymfony/service-contracts\u001b[39m (\u001b[33mv3.1.1\u001b[39m): Extracting archive\n",
      "  - Installing \u001b[32msymfony/deprecation-contracts\u001b[39m (\u001b[33mv3.1.1\u001b[39m): Extracting archive\n",
      "  - Installing \u001b[32msymfony/console\u001b[39m (\u001b[33mv6.1.7\u001b[39m): Extracting archive\n",
      "  - Installing \u001b[32msebastian/diff\u001b[39m (\u001b[33m4.0.4\u001b[39m): Extracting archive\n",
      "  - Installing \u001b[32msebastian/recursion-context\u001b[39m (\u001b[33m4.0.4\u001b[39m): Extracting archive\n",
      "  - Installing \u001b[32msebastian/exporter\u001b[39m (\u001b[33m4.0.5\u001b[39m): Extracting archive\n",
      "  - Installing \u001b[32msebastian/comparator\u001b[39m (\u001b[33m4.0.8\u001b[39m): Extracting archive\n",
      "  - Installing \u001b[32mnikic/php-parser\u001b[39m (\u001b[33mv4.15.2\u001b[39m): Extracting archive\n",
      "  - Installing \u001b[32mpsy/psysh\u001b[39m (\u001b[33mv0.11.9\u001b[39m): Extracting archive\n",
      "  - Installing \u001b[32msebastian/version\u001b[39m (\u001b[33m3.0.2\u001b[39m): Extracting archive\n",
      "  - Installing \u001b[32msebastian/type\u001b[39m (\u001b[33m3.2.0\u001b[39m): Extracting archive\n",
      "  - Installing \u001b[32msebastian/resource-operations\u001b[39m (\u001b[33m3.0.3\u001b[39m): Extracting archive\n",
      "  - Installing \u001b[32msebastian/object-reflector\u001b[39m (\u001b[33m2.0.4\u001b[39m): Extracting archive\n",
      "  - Installing \u001b[32msebastian/object-enumerator\u001b[39m (\u001b[33m4.0.4\u001b[39m): Extracting archive\n",
      "  - Installing \u001b[32msebastian/global-state\u001b[39m (\u001b[33m5.0.5\u001b[39m): Extracting archive\n",
      "  - Installing \u001b[32msebastian/environment\u001b[39m (\u001b[33m5.1.4\u001b[39m): Extracting archive\n",
      "  - Installing \u001b[32msebastian/code-unit\u001b[39m (\u001b[33m1.0.8\u001b[39m): Extracting archive\n",
      "  - Installing \u001b[32msebastian/cli-parser\u001b[39m (\u001b[33m1.0.1\u001b[39m): Extracting archive\n",
      "  - Installing \u001b[32mphpunit/php-timer\u001b[39m (\u001b[33m5.0.3\u001b[39m): Extracting archive\n",
      "  - Installing \u001b[32mphpunit/php-text-template\u001b[39m (\u001b[33m2.0.4\u001b[39m): Extracting archive\n",
      "  - Installing \u001b[32mphpunit/php-invoker\u001b[39m (\u001b[33m3.1.1\u001b[39m): Extracting archive\n",
      "  - Installing \u001b[32mphpunit/php-file-iterator\u001b[39m (\u001b[33m3.0.6\u001b[39m): Extracting archive\n",
      "  - Installing \u001b[32mtheseer/tokenizer\u001b[39m (\u001b[33m1.2.1\u001b[39m): Extracting archive\n",
      "  - Installing \u001b[32msebastian/lines-of-code\u001b[39m (\u001b[33m1.0.3\u001b[39m): Extracting archive\n",
      "  - Installing \u001b[32msebastian/complexity\u001b[39m (\u001b[33m2.0.2\u001b[39m): Extracting archive\n",
      "  - Installing \u001b[32msebastian/code-unit-reverse-lookup\u001b[39m (\u001b[33m2.0.3\u001b[39m): Extracting archive\n",
      "  - Installing \u001b[32mphpunit/php-code-coverage\u001b[39m (\u001b[33m9.2.19\u001b[39m): Extracting archive\n",
      "  - Installing \u001b[32mphar-io/version\u001b[39m (\u001b[33m3.2.1\u001b[39m): Extracting archive\n",
      "  - Installing \u001b[32mphar-io/manifest\u001b[39m (\u001b[33m2.0.3\u001b[39m): Extracting archive\n",
      "  - Installing \u001b[32mmyclabs/deep-copy\u001b[39m (\u001b[33m1.11.0\u001b[39m): Extracting archive\n",
      "  - Installing \u001b[32mdoctrine/instantiator\u001b[39m (\u001b[33m1.4.1\u001b[39m): Extracting archive\n",
      "  - Installing \u001b[32mphpunit/phpunit\u001b[39m (\u001b[33m9.5.26\u001b[39m): Extracting archive\n",
      "  - Installing \u001b[32mcodeception/stub\u001b[39m (\u001b[33m4.0.2\u001b[39m): Extracting archive\n",
      "  - Installing \u001b[32mcodeception/lib-asserts\u001b[39m (\u001b[33m2.0.1\u001b[39m): Extracting archive\n",
      "  - Installing \u001b[32mcodeception/codeception\u001b[39m (\u001b[33m5.0.4\u001b[39m): Extracting archive\n",
      "  - Installing \u001b[32mcodeception/module-asserts\u001b[39m (\u001b[33m3.0.0\u001b[39m): Extracting archive\n",
      "  - Installing \u001b[32mcodeception/module-db\u001b[39m (\u001b[33m3.0.1\u001b[39m): Extracting archive\n",
      "  - Installing \u001b[32mmasterminds/html5\u001b[39m (\u001b[33m2.7.6\u001b[39m): Extracting archive\n",
      "  - Installing \u001b[32msymfony/dom-crawler\u001b[39m (\u001b[33mv6.1.7\u001b[39m): Extracting archive\n",
      "  - Installing \u001b[32msymfony/browser-kit\u001b[39m (\u001b[33mv6.1.3\u001b[39m): Extracting archive\n",
      "  - Installing \u001b[32mpsr/http-client\u001b[39m (\u001b[33m1.0.1\u001b[39m): Extracting archive\n",
      "  - Installing \u001b[32mguzzlehttp/promises\u001b[39m (\u001b[33m1.5.2\u001b[39m): Extracting archive\n",
      "  - Installing \u001b[32mguzzlehttp/guzzle\u001b[39m (\u001b[33m7.5.0\u001b[39m): Extracting archive\n",
      "  - Installing \u001b[32mcodeception/lib-innerbrowser\u001b[39m (\u001b[33m3.1.3\u001b[39m): Extracting archive\n",
      "  - Installing \u001b[32mcodeception/module-phpbrowser\u001b[39m (\u001b[33m3.0.0\u001b[39m): Extracting archive\n",
      "  - Installing \u001b[32mcomposer/pcre\u001b[39m (\u001b[33m3.1.0\u001b[39m): Extracting archive\n",
      "  - Installing \u001b[32mdoctrine/inflector\u001b[39m (\u001b[33m2.0.6\u001b[39m): Extracting archive\n",
      "  - Installing \u001b[32mdoctrine/lexer\u001b[39m (\u001b[33m1.2.3\u001b[39m): Extracting archive\n",
      "  - Installing \u001b[32mwebmozart/assert\u001b[39m (\u001b[33m1.11.0\u001b[39m): Extracting archive\n",
      "  - Installing \u001b[32mdragonmantank/cron-expression\u001b[39m (\u001b[33mv3.3.2\u001b[39m): Extracting archive\n",
      "  - Installing \u001b[32mfakerphp/faker\u001b[39m (\u001b[33mv1.20.0\u001b[39m): Extracting archive\n",
      "  - Installing \u001b[32msymfony/stopwatch\u001b[39m (\u001b[33mv6.1.5\u001b[39m): Extracting archive\n",
      "  - Installing \u001b[32msymfony/process\u001b[39m (\u001b[33mv6.1.3\u001b[39m): Extracting archive\n",
      "  - Installing \u001b[32msymfony/polyfill-php81\u001b[39m (\u001b[33mv1.27.0\u001b[39m): Extracting archive\n",
      "  - Installing \u001b[32msymfony/polyfill-php80\u001b[39m (\u001b[33mv1.27.0\u001b[39m): Extracting archive\n",
      "  - Installing \u001b[32msymfony/options-resolver\u001b[39m (\u001b[33mv6.1.0\u001b[39m): Extracting archive\n",
      "  - Installing \u001b[32msymfony/filesystem\u001b[39m (\u001b[33mv6.1.5\u001b[39m): Extracting archive\n",
      "  - Installing \u001b[32mpsr/cache\u001b[39m (\u001b[33m3.0.0\u001b[39m): Extracting archive\n",
      "  - Installing \u001b[32mdoctrine/annotations\u001b[39m (\u001b[33m1.13.3\u001b[39m): Extracting archive\n",
      "  - Installing \u001b[32mpsr/log\u001b[39m (\u001b[33m3.0.0\u001b[39m): Extracting archive\n",
      "  - Installing \u001b[32mcomposer/xdebug-handler\u001b[39m (\u001b[33m3.0.3\u001b[39m): Extracting archive\n",
      "  - Installing \u001b[32mcomposer/semver\u001b[39m (\u001b[33m3.3.2\u001b[39m): Extracting archive\n",
      "  - Installing \u001b[32mfriendsofphp/php-cs-fixer\u001b[39m (\u001b[33mv3.13.0\u001b[39m): Extracting archive\n",
      "  - Installing \u001b[32msymfony/http-foundation\u001b[39m (\u001b[33mv6.1.7\u001b[39m): Extracting archive\n",
      "  - Installing \u001b[32mfruitcake/php-cors\u001b[39m (\u001b[33mv1.2.0\u001b[39m): Extracting archive\n",
      "  - Installing \u001b[32mnette/utils\u001b[39m (\u001b[33mv3.2.8\u001b[39m): Extracting archive\n",
      "  - Installing \u001b[32mnette/schema\u001b[39m (\u001b[33mv1.2.3\u001b[39m): Extracting archive\n",
      "  - Installing \u001b[32mdflydev/dot-access-data\u001b[39m (\u001b[33mv3.0.2\u001b[39m): Extracting archive\n",
      "  - Installing \u001b[32mleague/config\u001b[39m (\u001b[33mv1.1.1\u001b[39m): Extracting archive\n",
      "  - Installing \u001b[32mleague/commonmark\u001b[39m (\u001b[33m2.3.7\u001b[39m): Extracting archive\n",
      "  - Installing \u001b[32mvoku/portable-ascii\u001b[39m (\u001b[33m2.0.1\u001b[39m): Extracting archive\n",
      "  - Installing \u001b[32mphpoption/phpoption\u001b[39m (\u001b[33m1.9.0\u001b[39m): Extracting archive\n",
      "  - Installing \u001b[32mgraham-campbell/result-type\u001b[39m (\u001b[33mv1.1.0\u001b[39m): Extracting archive\n",
      "  - Installing \u001b[32mvlucas/phpdotenv\u001b[39m (\u001b[33mv5.5.0\u001b[39m): Extracting archive\n",
      "  - Installing \u001b[32mtijsverkoyen/css-to-inline-styles\u001b[39m (\u001b[33m2.2.5\u001b[39m): Extracting archive\n",
      "  - Installing \u001b[32msymfony/polyfill-uuid\u001b[39m (\u001b[33mv1.27.0\u001b[39m): Extracting archive\n",
      "  - Installing \u001b[32msymfony/uid\u001b[39m (\u001b[33mv6.1.5\u001b[39m): Extracting archive\n",
      "  - Installing \u001b[32msymfony/routing\u001b[39m (\u001b[33mv6.1.7\u001b[39m): Extracting archive\n",
      "  - Installing \u001b[32msymfony/polyfill-php72\u001b[39m (\u001b[33mv1.27.0\u001b[39m): Extracting archive\n",
      "  - Installing \u001b[32msymfony/polyfill-intl-idn\u001b[39m (\u001b[33mv1.27.0\u001b[39m): Extracting archive\n"
     ]
    },
    {
     "name": "stdout",
     "output_type": "stream",
     "text": [
      "  - Installing \u001b[32msymfony/mime\u001b[39m (\u001b[33mv6.1.7\u001b[39m): Extracting archive\n",
      "  - Installing \u001b[32megulias/email-validator\u001b[39m (\u001b[33m3.2.1\u001b[39m): Extracting archive\n",
      "  - Installing \u001b[32msymfony/mailer\u001b[39m (\u001b[33mv6.1.7\u001b[39m): Extracting archive\n",
      "  - Installing \u001b[32msymfony/error-handler\u001b[39m (\u001b[33mv6.1.7\u001b[39m): Extracting archive\n",
      "  - Installing \u001b[32msymfony/http-kernel\u001b[39m (\u001b[33mv6.1.7\u001b[39m): Extracting archive\n",
      "  - Installing \u001b[32mramsey/collection\u001b[39m (\u001b[33m1.2.2\u001b[39m): Extracting archive\n",
      "  - Installing \u001b[32mbrick/math\u001b[39m (\u001b[33m0.10.2\u001b[39m): Extracting archive\n",
      "  - Installing \u001b[32mramsey/uuid\u001b[39m (\u001b[33m4.6.0\u001b[39m): Extracting archive\n",
      "  - Installing \u001b[32mpsr/simple-cache\u001b[39m (\u001b[33m3.0.0\u001b[39m): Extracting archive\n",
      "  - Installing \u001b[32mnunomaduro/termwind\u001b[39m (\u001b[33mv1.14.2\u001b[39m): Extracting archive\n",
      "  - Installing \u001b[32msymfony/translation-contracts\u001b[39m (\u001b[33mv3.1.1\u001b[39m): Extracting archive\n",
      "  - Installing \u001b[32msymfony/translation\u001b[39m (\u001b[33mv6.1.6\u001b[39m): Extracting archive\n",
      "  - Installing \u001b[32mnesbot/carbon\u001b[39m (\u001b[33m2.63.0\u001b[39m): Extracting archive\n",
      "  - Installing \u001b[32mmonolog/monolog\u001b[39m (\u001b[33m2.8.0\u001b[39m): Extracting archive\n",
      "  - Installing \u001b[32mleague/mime-type-detection\u001b[39m (\u001b[33m1.11.0\u001b[39m): Extracting archive\n",
      "  - Installing \u001b[32mleague/flysystem\u001b[39m (\u001b[33m3.10.3\u001b[39m): Extracting archive\n",
      "  - Installing \u001b[32mlaravel/serializable-closure\u001b[39m (\u001b[33mv1.2.2\u001b[39m): Extracting archive\n",
      "  - Installing \u001b[32mlaravel/framework\u001b[39m (\u001b[33mv9.40.1\u001b[39m): Extracting archive\n",
      "  - Installing \u001b[32mgraham-campbell/markdown\u001b[39m (\u001b[33mv14.0.0\u001b[39m): Extracting archive\n",
      "  - Installing \u001b[32mhamcrest/hamcrest-php\u001b[39m (\u001b[33mv2.0.1\u001b[39m): Extracting archive\n",
      "  - Installing \u001b[32mlaravel/breeze\u001b[39m (\u001b[33mv1.15.3\u001b[39m): Extracting archive\n",
      "  - Installing \u001b[32mlaravel/pint\u001b[39m (\u001b[33mv1.2.0\u001b[39m): Extracting archive\n",
      "  - Installing \u001b[32mlaravel/sail\u001b[39m (\u001b[33mv1.16.2\u001b[39m): Extracting archive\n",
      "  - Installing \u001b[32mlaravel/sanctum\u001b[39m (\u001b[33mv3.0.1\u001b[39m): Extracting archive\n",
      "  - Installing \u001b[32mlaravel/tinker\u001b[39m (\u001b[33mv2.7.3\u001b[39m): Extracting archive\n",
      "  - Installing \u001b[32mfilp/whoops\u001b[39m (\u001b[33m2.14.6\u001b[39m): Extracting archive\n",
      "  - Installing \u001b[32mnunomaduro/collision\u001b[39m (\u001b[33mv6.3.1\u001b[39m): Extracting archive\n",
      "  - Installing \u001b[32mphpstan/phpstan\u001b[39m (\u001b[33m1.9.2\u001b[39m): Extracting archive\n",
      "  - Installing \u001b[32mphpmyadmin/sql-parser\u001b[39m (\u001b[33m5.5.0\u001b[39m): Extracting archive\n",
      "  - Installing \u001b[32mmockery/mockery\u001b[39m (\u001b[33m1.5.1\u001b[39m): Extracting archive\n",
      "  - Installing \u001b[32mnunomaduro/larastan\u001b[39m (\u001b[33m2.2.9\u001b[39m): Extracting archive\n",
      "  - Installing \u001b[32msebastian/phpcpd\u001b[39m (\u001b[33m6.0.3\u001b[39m): Extracting archive\n",
      "  - Installing \u001b[32mspatie/backtrace\u001b[39m (\u001b[33m1.2.1\u001b[39m): Extracting archive\n",
      "  - Installing \u001b[32mspatie/flare-client-php\u001b[39m (\u001b[33m1.3.1\u001b[39m): Extracting archive\n",
      "  - Installing \u001b[32mspatie/ignition\u001b[39m (\u001b[33m1.4.1\u001b[39m): Extracting archive\n",
      "  - Installing \u001b[32mspatie/laravel-ignition\u001b[39m (\u001b[33m1.6.1\u001b[39m): Extracting archive\n",
      "   0/135 [>---------------------------]   0%\u001b[1G\u001b[2K  20/135 [====>-----------------------]  14%\u001b[1G\u001b[2K  38/135 [=======>--------------------]  28%\u001b[1G\u001b[2K  50/135 [==========>-----------------]  37%\u001b[1G\u001b[2K  67/135 [=============>--------------]  49%\u001b[1G\u001b[2K  79/135 [================>-----------]  58%\u001b[1G\u001b[2K  90/135 [==================>---------]  66%\u001b[1G\u001b[2K 100/135 [====================>-------]  74%\u001b[1G\u001b[2K 110/135 [======================>-----]  81%\u001b[1G\u001b[2K 123/135 [=========================>--]  91%\u001b[1G\u001b[2K 135/135 [============================] 100%\u001b[1G\u001b[2K\u001b[32mGenerating optimized autoload files\u001b[39m\n",
      "> Illuminate\\Foundation\\ComposerScripts::postAutoloadDump\n",
      "> @php artisan package:discover --ansi\n",
      "\n",
      "  \u001b[37;44m INFO \u001b[39;49m Discovering packages.  \n",
      "\n",
      "  graham-campbell/markdown \u001b[90m.\u001b[39m\u001b[90m.\u001b[39m\u001b[90m.\u001b[39m\u001b[90m.\u001b[39m\u001b[90m.\u001b[39m\u001b[90m.\u001b[39m\u001b[90m.\u001b[39m\u001b[90m.\u001b[39m\u001b[90m.\u001b[39m\u001b[90m.\u001b[39m\u001b[90m.\u001b[39m\u001b[90m.\u001b[39m\u001b[90m.\u001b[39m\u001b[90m.\u001b[39m\u001b[90m.\u001b[39m\u001b[90m.\u001b[39m\u001b[90m.\u001b[39m\u001b[90m.\u001b[39m\u001b[90m.\u001b[39m\u001b[90m.\u001b[39m\u001b[90m.\u001b[39m\u001b[90m.\u001b[39m\u001b[90m.\u001b[39m\u001b[90m.\u001b[39m\u001b[90m.\u001b[39m\u001b[90m.\u001b[39m\u001b[90m.\u001b[39m\u001b[90m.\u001b[39m\u001b[90m.\u001b[39m\u001b[90m.\u001b[39m\u001b[90m.\u001b[39m\u001b[90m.\u001b[39m\u001b[90m.\u001b[39m\u001b[90m.\u001b[39m\u001b[90m.\u001b[39m\u001b[90m.\u001b[39m\u001b[90m.\u001b[39m\u001b[90m.\u001b[39m\u001b[90m.\u001b[39m\u001b[90m.\u001b[39m\u001b[90m.\u001b[39m\u001b[90m.\u001b[39m\u001b[90m.\u001b[39m\u001b[90m.\u001b[39m\u001b[90m.\u001b[39m\u001b[90m.\u001b[39m \u001b[32;1mDONE\u001b[39;22m\n",
      "  laravel/breeze \u001b[90m.\u001b[39m\u001b[90m.\u001b[39m\u001b[90m.\u001b[39m\u001b[90m.\u001b[39m\u001b[90m.\u001b[39m\u001b[90m.\u001b[39m\u001b[90m.\u001b[39m\u001b[90m.\u001b[39m\u001b[90m.\u001b[39m\u001b[90m.\u001b[39m\u001b[90m.\u001b[39m\u001b[90m.\u001b[39m\u001b[90m.\u001b[39m\u001b[90m.\u001b[39m\u001b[90m.\u001b[39m\u001b[90m.\u001b[39m\u001b[90m.\u001b[39m\u001b[90m.\u001b[39m\u001b[90m.\u001b[39m\u001b[90m.\u001b[39m\u001b[90m.\u001b[39m\u001b[90m.\u001b[39m\u001b[90m.\u001b[39m\u001b[90m.\u001b[39m\u001b[90m.\u001b[39m\u001b[90m.\u001b[39m\u001b[90m.\u001b[39m\u001b[90m.\u001b[39m\u001b[90m.\u001b[39m\u001b[90m.\u001b[39m\u001b[90m.\u001b[39m\u001b[90m.\u001b[39m\u001b[90m.\u001b[39m\u001b[90m.\u001b[39m\u001b[90m.\u001b[39m\u001b[90m.\u001b[39m\u001b[90m.\u001b[39m\u001b[90m.\u001b[39m\u001b[90m.\u001b[39m\u001b[90m.\u001b[39m\u001b[90m.\u001b[39m\u001b[90m.\u001b[39m\u001b[90m.\u001b[39m\u001b[90m.\u001b[39m\u001b[90m.\u001b[39m\u001b[90m.\u001b[39m\u001b[90m.\u001b[39m\u001b[90m.\u001b[39m\u001b[90m.\u001b[39m\u001b[90m.\u001b[39m\u001b[90m.\u001b[39m\u001b[90m.\u001b[39m\u001b[90m.\u001b[39m\u001b[90m.\u001b[39m\u001b[90m.\u001b[39m\u001b[90m.\u001b[39m \u001b[32;1mDONE\u001b[39;22m\n",
      "  laravel/sail \u001b[90m.\u001b[39m\u001b[90m.\u001b[39m\u001b[90m.\u001b[39m\u001b[90m.\u001b[39m\u001b[90m.\u001b[39m\u001b[90m.\u001b[39m\u001b[90m.\u001b[39m\u001b[90m.\u001b[39m\u001b[90m.\u001b[39m\u001b[90m.\u001b[39m\u001b[90m.\u001b[39m\u001b[90m.\u001b[39m\u001b[90m.\u001b[39m\u001b[90m.\u001b[39m\u001b[90m.\u001b[39m\u001b[90m.\u001b[39m\u001b[90m.\u001b[39m\u001b[90m.\u001b[39m\u001b[90m.\u001b[39m\u001b[90m.\u001b[39m\u001b[90m.\u001b[39m\u001b[90m.\u001b[39m\u001b[90m.\u001b[39m\u001b[90m.\u001b[39m\u001b[90m.\u001b[39m\u001b[90m.\u001b[39m\u001b[90m.\u001b[39m\u001b[90m.\u001b[39m\u001b[90m.\u001b[39m\u001b[90m.\u001b[39m\u001b[90m.\u001b[39m\u001b[90m.\u001b[39m\u001b[90m.\u001b[39m\u001b[90m.\u001b[39m\u001b[90m.\u001b[39m\u001b[90m.\u001b[39m\u001b[90m.\u001b[39m\u001b[90m.\u001b[39m\u001b[90m.\u001b[39m\u001b[90m.\u001b[39m\u001b[90m.\u001b[39m\u001b[90m.\u001b[39m\u001b[90m.\u001b[39m\u001b[90m.\u001b[39m\u001b[90m.\u001b[39m\u001b[90m.\u001b[39m\u001b[90m.\u001b[39m\u001b[90m.\u001b[39m\u001b[90m.\u001b[39m\u001b[90m.\u001b[39m\u001b[90m.\u001b[39m\u001b[90m.\u001b[39m\u001b[90m.\u001b[39m\u001b[90m.\u001b[39m\u001b[90m.\u001b[39m\u001b[90m.\u001b[39m\u001b[90m.\u001b[39m\u001b[90m.\u001b[39m \u001b[32;1mDONE\u001b[39;22m\n",
      "  laravel/sanctum \u001b[90m.\u001b[39m\u001b[90m.\u001b[39m\u001b[90m.\u001b[39m\u001b[90m.\u001b[39m\u001b[90m.\u001b[39m\u001b[90m.\u001b[39m\u001b[90m.\u001b[39m\u001b[90m.\u001b[39m\u001b[90m.\u001b[39m\u001b[90m.\u001b[39m\u001b[90m.\u001b[39m\u001b[90m.\u001b[39m\u001b[90m.\u001b[39m\u001b[90m.\u001b[39m\u001b[90m.\u001b[39m\u001b[90m.\u001b[39m\u001b[90m.\u001b[39m\u001b[90m.\u001b[39m\u001b[90m.\u001b[39m\u001b[90m.\u001b[39m\u001b[90m.\u001b[39m\u001b[90m.\u001b[39m\u001b[90m.\u001b[39m\u001b[90m.\u001b[39m\u001b[90m.\u001b[39m\u001b[90m.\u001b[39m\u001b[90m.\u001b[39m\u001b[90m.\u001b[39m\u001b[90m.\u001b[39m\u001b[90m.\u001b[39m\u001b[90m.\u001b[39m\u001b[90m.\u001b[39m\u001b[90m.\u001b[39m\u001b[90m.\u001b[39m\u001b[90m.\u001b[39m\u001b[90m.\u001b[39m\u001b[90m.\u001b[39m\u001b[90m.\u001b[39m\u001b[90m.\u001b[39m\u001b[90m.\u001b[39m\u001b[90m.\u001b[39m\u001b[90m.\u001b[39m\u001b[90m.\u001b[39m\u001b[90m.\u001b[39m\u001b[90m.\u001b[39m\u001b[90m.\u001b[39m\u001b[90m.\u001b[39m\u001b[90m.\u001b[39m\u001b[90m.\u001b[39m\u001b[90m.\u001b[39m\u001b[90m.\u001b[39m\u001b[90m.\u001b[39m\u001b[90m.\u001b[39m\u001b[90m.\u001b[39m\u001b[90m.\u001b[39m \u001b[32;1mDONE\u001b[39;22m\n",
      "  laravel/tinker \u001b[90m.\u001b[39m\u001b[90m.\u001b[39m\u001b[90m.\u001b[39m\u001b[90m.\u001b[39m\u001b[90m.\u001b[39m\u001b[90m.\u001b[39m\u001b[90m.\u001b[39m\u001b[90m.\u001b[39m\u001b[90m.\u001b[39m\u001b[90m.\u001b[39m\u001b[90m.\u001b[39m\u001b[90m.\u001b[39m\u001b[90m.\u001b[39m\u001b[90m.\u001b[39m\u001b[90m.\u001b[39m\u001b[90m.\u001b[39m\u001b[90m.\u001b[39m\u001b[90m.\u001b[39m\u001b[90m.\u001b[39m\u001b[90m.\u001b[39m\u001b[90m.\u001b[39m\u001b[90m.\u001b[39m\u001b[90m.\u001b[39m\u001b[90m.\u001b[39m\u001b[90m.\u001b[39m\u001b[90m.\u001b[39m\u001b[90m.\u001b[39m\u001b[90m.\u001b[39m\u001b[90m.\u001b[39m\u001b[90m.\u001b[39m\u001b[90m.\u001b[39m\u001b[90m.\u001b[39m\u001b[90m.\u001b[39m\u001b[90m.\u001b[39m\u001b[90m.\u001b[39m\u001b[90m.\u001b[39m\u001b[90m.\u001b[39m\u001b[90m.\u001b[39m\u001b[90m.\u001b[39m\u001b[90m.\u001b[39m\u001b[90m.\u001b[39m\u001b[90m.\u001b[39m\u001b[90m.\u001b[39m\u001b[90m.\u001b[39m\u001b[90m.\u001b[39m\u001b[90m.\u001b[39m\u001b[90m.\u001b[39m\u001b[90m.\u001b[39m\u001b[90m.\u001b[39m\u001b[90m.\u001b[39m\u001b[90m.\u001b[39m\u001b[90m.\u001b[39m\u001b[90m.\u001b[39m\u001b[90m.\u001b[39m\u001b[90m.\u001b[39m\u001b[90m.\u001b[39m \u001b[32;1mDONE\u001b[39;22m\n",
      "  nesbot/carbon \u001b[90m.\u001b[39m\u001b[90m.\u001b[39m\u001b[90m.\u001b[39m\u001b[90m.\u001b[39m\u001b[90m.\u001b[39m\u001b[90m.\u001b[39m\u001b[90m.\u001b[39m\u001b[90m.\u001b[39m\u001b[90m.\u001b[39m\u001b[90m.\u001b[39m\u001b[90m.\u001b[39m\u001b[90m.\u001b[39m\u001b[90m.\u001b[39m\u001b[90m.\u001b[39m\u001b[90m.\u001b[39m\u001b[90m.\u001b[39m\u001b[90m.\u001b[39m\u001b[90m.\u001b[39m\u001b[90m.\u001b[39m\u001b[90m.\u001b[39m\u001b[90m.\u001b[39m\u001b[90m.\u001b[39m\u001b[90m.\u001b[39m\u001b[90m.\u001b[39m\u001b[90m.\u001b[39m\u001b[90m.\u001b[39m\u001b[90m.\u001b[39m\u001b[90m.\u001b[39m\u001b[90m.\u001b[39m\u001b[90m.\u001b[39m\u001b[90m.\u001b[39m\u001b[90m.\u001b[39m\u001b[90m.\u001b[39m\u001b[90m.\u001b[39m\u001b[90m.\u001b[39m\u001b[90m.\u001b[39m\u001b[90m.\u001b[39m\u001b[90m.\u001b[39m\u001b[90m.\u001b[39m\u001b[90m.\u001b[39m\u001b[90m.\u001b[39m\u001b[90m.\u001b[39m\u001b[90m.\u001b[39m\u001b[90m.\u001b[39m\u001b[90m.\u001b[39m\u001b[90m.\u001b[39m\u001b[90m.\u001b[39m\u001b[90m.\u001b[39m\u001b[90m.\u001b[39m\u001b[90m.\u001b[39m\u001b[90m.\u001b[39m\u001b[90m.\u001b[39m\u001b[90m.\u001b[39m\u001b[90m.\u001b[39m\u001b[90m.\u001b[39m\u001b[90m.\u001b[39m\u001b[90m.\u001b[39m \u001b[32;1mDONE\u001b[39;22m\n",
      "  nunomaduro/collision \u001b[90m.\u001b[39m\u001b[90m.\u001b[39m\u001b[90m.\u001b[39m\u001b[90m.\u001b[39m\u001b[90m.\u001b[39m\u001b[90m.\u001b[39m\u001b[90m.\u001b[39m\u001b[90m.\u001b[39m\u001b[90m.\u001b[39m\u001b[90m.\u001b[39m\u001b[90m.\u001b[39m\u001b[90m.\u001b[39m\u001b[90m.\u001b[39m\u001b[90m.\u001b[39m\u001b[90m.\u001b[39m\u001b[90m.\u001b[39m\u001b[90m.\u001b[39m\u001b[90m.\u001b[39m\u001b[90m.\u001b[39m\u001b[90m.\u001b[39m\u001b[90m.\u001b[39m\u001b[90m.\u001b[39m\u001b[90m.\u001b[39m\u001b[90m.\u001b[39m\u001b[90m.\u001b[39m\u001b[90m.\u001b[39m\u001b[90m.\u001b[39m\u001b[90m.\u001b[39m\u001b[90m.\u001b[39m\u001b[90m.\u001b[39m\u001b[90m.\u001b[39m\u001b[90m.\u001b[39m\u001b[90m.\u001b[39m\u001b[90m.\u001b[39m\u001b[90m.\u001b[39m\u001b[90m.\u001b[39m\u001b[90m.\u001b[39m\u001b[90m.\u001b[39m\u001b[90m.\u001b[39m\u001b[90m.\u001b[39m\u001b[90m.\u001b[39m\u001b[90m.\u001b[39m\u001b[90m.\u001b[39m\u001b[90m.\u001b[39m\u001b[90m.\u001b[39m\u001b[90m.\u001b[39m\u001b[90m.\u001b[39m\u001b[90m.\u001b[39m\u001b[90m.\u001b[39m\u001b[90m.\u001b[39m \u001b[32;1mDONE\u001b[39;22m\n",
      "  nunomaduro/termwind \u001b[90m.\u001b[39m\u001b[90m.\u001b[39m\u001b[90m.\u001b[39m\u001b[90m.\u001b[39m\u001b[90m.\u001b[39m\u001b[90m.\u001b[39m\u001b[90m.\u001b[39m\u001b[90m.\u001b[39m\u001b[90m.\u001b[39m\u001b[90m.\u001b[39m\u001b[90m.\u001b[39m\u001b[90m.\u001b[39m\u001b[90m.\u001b[39m\u001b[90m.\u001b[39m\u001b[90m.\u001b[39m\u001b[90m.\u001b[39m\u001b[90m.\u001b[39m\u001b[90m.\u001b[39m\u001b[90m.\u001b[39m\u001b[90m.\u001b[39m\u001b[90m.\u001b[39m\u001b[90m.\u001b[39m\u001b[90m.\u001b[39m\u001b[90m.\u001b[39m\u001b[90m.\u001b[39m\u001b[90m.\u001b[39m\u001b[90m.\u001b[39m\u001b[90m.\u001b[39m\u001b[90m.\u001b[39m\u001b[90m.\u001b[39m\u001b[90m.\u001b[39m\u001b[90m.\u001b[39m\u001b[90m.\u001b[39m\u001b[90m.\u001b[39m\u001b[90m.\u001b[39m\u001b[90m.\u001b[39m\u001b[90m.\u001b[39m\u001b[90m.\u001b[39m\u001b[90m.\u001b[39m\u001b[90m.\u001b[39m\u001b[90m.\u001b[39m\u001b[90m.\u001b[39m\u001b[90m.\u001b[39m\u001b[90m.\u001b[39m\u001b[90m.\u001b[39m\u001b[90m.\u001b[39m\u001b[90m.\u001b[39m\u001b[90m.\u001b[39m\u001b[90m.\u001b[39m\u001b[90m.\u001b[39m\u001b[90m.\u001b[39m \u001b[32;1mDONE\u001b[39;22m\n",
      "  spatie/laravel-ignition \u001b[90m.\u001b[39m\u001b[90m.\u001b[39m\u001b[90m.\u001b[39m\u001b[90m.\u001b[39m\u001b[90m.\u001b[39m\u001b[90m.\u001b[39m\u001b[90m.\u001b[39m\u001b[90m.\u001b[39m\u001b[90m.\u001b[39m\u001b[90m.\u001b[39m\u001b[90m.\u001b[39m\u001b[90m.\u001b[39m\u001b[90m.\u001b[39m\u001b[90m.\u001b[39m\u001b[90m.\u001b[39m\u001b[90m.\u001b[39m\u001b[90m.\u001b[39m\u001b[90m.\u001b[39m\u001b[90m.\u001b[39m\u001b[90m.\u001b[39m\u001b[90m.\u001b[39m\u001b[90m.\u001b[39m\u001b[90m.\u001b[39m\u001b[90m.\u001b[39m\u001b[90m.\u001b[39m\u001b[90m.\u001b[39m\u001b[90m.\u001b[39m\u001b[90m.\u001b[39m\u001b[90m.\u001b[39m\u001b[90m.\u001b[39m\u001b[90m.\u001b[39m\u001b[90m.\u001b[39m\u001b[90m.\u001b[39m\u001b[90m.\u001b[39m\u001b[90m.\u001b[39m\u001b[90m.\u001b[39m\u001b[90m.\u001b[39m\u001b[90m.\u001b[39m\u001b[90m.\u001b[39m\u001b[90m.\u001b[39m\u001b[90m.\u001b[39m\u001b[90m.\u001b[39m\u001b[90m.\u001b[39m\u001b[90m.\u001b[39m\u001b[90m.\u001b[39m\u001b[90m.\u001b[39m\u001b[90m.\u001b[39m \u001b[32;1mDONE\u001b[39;22m\n",
      "\n"
     ]
    },
    {
     "name": "stdout",
     "output_type": "stream",
     "text": [
      "\u001b[32m96 packages you are using are looking for funding.\u001b[39m\r\n",
      "\u001b[32mUse the `composer fund` command to find out more!\u001b[39m\r\n"
     ]
    }
   ],
   "source": [
    "! composer install"
   ]
  },
  {
   "cell_type": "code",
   "execution_count": 50,
   "metadata": {},
   "outputs": [
    {
     "name": "stdout",
     "output_type": "stream",
     "text": [
      "\u001b[32mBuilding Actor classes for suites: Acceptance\u001b[39m\r\n",
      " -> AcceptanceTesterActions.php generated successfully. 81 methods added\r\n",
      "\u001b[32mTestsCodeception\\AcceptanceTester\u001b[39m includes modules: PhpBrowser, Db\r\n"
     ]
    }
   ],
   "source": [
    "! vendor/bin/codecept build"
   ]
  },
  {
   "cell_type": "code",
   "execution_count": 51,
   "metadata": {},
   "outputs": [
    {
     "name": "stdout",
     "output_type": "stream",
     "text": [
      "Loaded config \u001b[33mdefault\u001b[39m from \"/home/student/php_2022_witryna_serwisu_samochodowego/01_witryna_serwisu_samochodowego/project/./.php-cs-fixer.dist.php\".\n",
      "   1) routes/web.php\n",
      "\u001b[33m      ---------- begin diff ----------\u001b[39m\n",
      "\u001b[31m--- /home/student/php_2022_witryna_serwisu_samochodowego/01_witryna_serwisu_samochodowego/project/routes/web.php\u001b[39m\n",
      "\u001b[32m+++ /home/student/php_2022_witryna_serwisu_samochodowego/01_witryna_serwisu_samochodowego/project/routes/web.php\u001b[39m\n",
      "\u001b[36m@@ -45,4 +45,3 @@\u001b[39m\n",
      " Route::resource('/orders', \\App\\Http\\Controllers\\OrderController::class)->middleware(['auth']);\n",
      " \n",
      " Route::get('requests/create', [\\App\\Http\\Controllers\\RepairRequestController::class, 'create'])->name('requests.create');\n",
      "\u001b[31m-\u001b[39m\n",
      "\n",
      "\u001b[33m      ----------- end diff -----------\u001b[39m\n",
      "\n",
      "   2) app/Models/RepairRequest.php\n",
      "\u001b[33m      ---------- begin diff ----------\u001b[39m\n",
      "\u001b[31m--- /home/student/php_2022_witryna_serwisu_samochodowego/01_witryna_serwisu_samochodowego/project/app/Models/RepairRequest.php\u001b[39m\n",
      "\u001b[32m+++ /home/student/php_2022_witryna_serwisu_samochodowego/01_witryna_serwisu_samochodowego/project/app/Models/RepairRequest.php\u001b[39m\n",
      "\u001b[36m@@ -7,9 +7,8 @@\u001b[39m\n",
      " \n",
      " class RepairRequest extends Model\n",
      " {\n",
      "\u001b[32m+    use HasFactory;\u001b[39m\n",
      "     public $timestamps = false;\n",
      "\u001b[31m-\u001b[39m\n",
      "\u001b[31m-    use HasFactory;\u001b[39m\n",
      " \n",
      "     public function orders()\n",
      "     {\n",
      "\n",
      "\u001b[33m      ----------- end diff -----------\u001b[39m\n",
      "\n",
      "\n",
      "Checked all files in 0.495 seconds, 18.000 MB memory used\n"
     ]
    }
   ],
   "source": [
    "! vendor/bin/php-cs-fixer fix --diff --dry-run ."
   ]
  },
  {
   "cell_type": "code",
   "execution_count": 7,
   "metadata": {},
   "outputs": [
    {
     "name": "stdout",
     "output_type": "stream",
     "text": [
      "\n",
      "\u001b[33m ! [NOTE] The Xdebug PHP extension is active, but \"--xdebug\" is not used. This  \u001b[39m\n",
      "\u001b[33m !        may slow down performance and the process will not halt at            \u001b[39m\n",
      "\u001b[33m !        breakpoints.                                                          \u001b[39m\n",
      "\n",
      "  0/84 [░░░░░░░░░░░░░░░░░░░░░░░░░░░░]   0%\u001b[1G\u001b[2K 20/84 [▓▓▓▓▓▓░░░░░░░░░░░░░░░░░░░░░░]  23%\u001b[1G\u001b[2K 40/84 [▓▓▓▓▓▓▓▓▓▓▓▓▓░░░░░░░░░░░░░░░]  47%\u001b[1G\u001b[2K 60/84 [▓▓▓▓▓▓▓▓▓▓▓▓▓▓▓▓▓▓▓▓░░░░░░░░]  71%\u001b[1G\u001b[2K 84/84 [▓▓▓▓▓▓▓▓▓▓▓▓▓▓▓▓▓▓▓▓▓▓▓▓▓▓▓▓] 100%\n",
      "\n",
      " ------ ----------------------------------------------------------------------- \n",
      "  \u001b[32mLine\u001b[39m   \u001b[32mapp/Http/Controllers/OrderController.php\u001b[39m                               \n",
      " ------ ----------------------------------------------------------------------- \n",
      "  21     Relation 'orders' is not found in App\\Models\\RepairRequest model.      \n",
      "  42     Parameter #1 $id of static method                                      \n",
      "         App\\Http\\Controllers\\RepairRequestController::update_status() expects  \n",
      "         int, mixed given.                                                      \n",
      "  43     Property App\\Models\\Order::$requestID (int) does not accept mixed.     \n",
      "  44     Property App\\Models\\Order::$employeeID (int) does not accept mixed.    \n",
      "  45     Property App\\Models\\Order::$startDatetime (string) does not accept     \n",
      "         mixed.                                                                 \n",
      "  46     Property App\\Models\\Order::$estDuration (int) does not accept mixed.   \n",
      "  47     Property App\\Models\\Order::$cost (float) does not accept mixed.        \n",
      " ------ ----------------------------------------------------------------------- \n",
      "\n",
      " ------ -------------------------------------------------------------------- \n",
      "  \u001b[32mLine\u001b[39m   \u001b[32mapp/Http/Controllers/RepairRequestController.php\u001b[39m                    \n",
      " ------ -------------------------------------------------------------------- \n",
      "  57     Cannot access property $employeeID on App\\Models\\Order|null.        \n",
      "  74     Cannot access property $status on App\\Models\\RepairRequest|null.    \n",
      "  75     Cannot call method save() on App\\Models\\RepairRequest|null.         \n",
      "  113    Cannot call method getAuthIdentifier() on App\\Models\\User|null.     \n",
      "  113    Property App\\Models\\RepairRequest::$clientID (int) does not accept  \n",
      "         mixed.                                                              \n",
      " ------ -------------------------------------------------------------------- \n",
      "\n",
      " ------ -------------------------------------------------------------- \n",
      "  \u001b[32mLine\u001b[39m   \u001b[32mapp/Models/RepairRequest.php\u001b[39m                                  \n",
      " ------ -------------------------------------------------------------- \n",
      "  12     Method App\\Models\\RepairRequest::orders() has no return type  \n",
      "         specified.                                                    \n",
      " ------ -------------------------------------------------------------- \n",
      "\n",
      "\u001b[37;41m                                                                                \u001b[39;49m\n",
      "\u001b[37;41m [ERROR] Found 13 errors                                                        \u001b[39;49m\n",
      "\u001b[37;41m                                                                                \u001b[39;49m\n",
      "\n"
     ]
    }
   ],
   "source": [
    "! vendor/bin/phpstan analyze -c phpstan.neon"
   ]
  },
  {
   "cell_type": "code",
   "execution_count": 52,
   "metadata": {},
   "outputs": [
    {
     "name": "stdout",
     "output_type": "stream",
     "text": [
      "phpcpd 6.0.3 by Sebastian Bergmann.\n",
      "\n",
      "Found 2 clones with 10 duplicated lines in 2 files:\n",
      "\n",
      "  - /home/student/php_2022_witryna_serwisu_samochodowego/01_witryna_serwisu_samochodowego/project/app/Http/Controllers/RepairRequestController.php:85-91 (6 lines)\n",
      "    /home/student/php_2022_witryna_serwisu_samochodowego/01_witryna_serwisu_samochodowego/project/app/Http/Controllers/RepairRequestController.php:104-110\n",
      "\n",
      "  - /home/student/php_2022_witryna_serwisu_samochodowego/01_witryna_serwisu_samochodowego/project/app/Http/Controllers/OrderController.php:33-37 (4 lines)\n",
      "    /home/student/php_2022_witryna_serwisu_samochodowego/01_witryna_serwisu_samochodowego/project/app/Http/Controllers/RepairRequestController.php:57-61\n",
      "\n",
      "0.19% duplicated lines out of 5266 total lines of code.\n",
      "Average size of duplication is 5 lines, largest clone has 6 of lines\n",
      "\n",
      "Time: 00:00.012, Memory: 8.00 MB\n"
     ]
    }
   ],
   "source": [
    "! vendor/bin/phpcpd . --fuzzy --min-lines 1 --min-tokens 20 --exclude vendor --exclude tests* --exclude config --exclude storage"
   ]
  },
  {
   "cell_type": "code",
   "execution_count": 53,
   "metadata": {},
   "outputs": [],
   "source": [
    "! cp .env.example .env"
   ]
  },
  {
   "cell_type": "code",
   "execution_count": 54,
   "metadata": {},
   "outputs": [
    {
     "name": "stdout",
     "output_type": "stream",
     "text": [
      "\r\n",
      "  \u001b[37;44m INFO \u001b[39;49m Application key set successfully.  \r\n",
      "\r\n"
     ]
    }
   ],
   "source": [
    "! php artisan key:generate"
   ]
  },
  {
   "cell_type": "code",
   "execution_count": 55,
   "metadata": {},
   "outputs": [
    {
     "name": "stdout",
     "output_type": "stream",
     "text": [
      "\n",
      "  Dropping all tables \u001b[90m.\u001b[39m\u001b[90m.\u001b[39m\u001b[90m.\u001b[39m\u001b[90m.\u001b[39m\u001b[90m.\u001b[39m\u001b[90m.\u001b[39m\u001b[90m.\u001b[39m\u001b[90m.\u001b[39m\u001b[90m.\u001b[39m\u001b[90m.\u001b[39m\u001b[90m.\u001b[39m\u001b[90m.\u001b[39m\u001b[90m.\u001b[39m\u001b[90m.\u001b[39m\u001b[90m.\u001b[39m\u001b[90m.\u001b[39m\u001b[90m.\u001b[39m\u001b[90m.\u001b[39m\u001b[90m.\u001b[39m\u001b[90m.\u001b[39m\u001b[90m.\u001b[39m\u001b[90m.\u001b[39m\u001b[90m.\u001b[39m\u001b[90m.\u001b[39m\u001b[90m.\u001b[39m\u001b[90m.\u001b[39m\u001b[90m.\u001b[39m\u001b[90m.\u001b[39m\u001b[90m.\u001b[39m\u001b[90m.\u001b[39m\u001b[90m.\u001b[39m\u001b[90m.\u001b[39m\u001b[90m.\u001b[39m\u001b[90m.\u001b[39m\u001b[90m.\u001b[39m\u001b[90m.\u001b[39m\u001b[90m.\u001b[39m\u001b[90m.\u001b[39m\u001b[90m.\u001b[39m\u001b[90m.\u001b[39m\u001b[90m.\u001b[39m\u001b[90m.\u001b[39m\u001b[90m.\u001b[39m\u001b[90m.\u001b[39m\u001b[90m.\u001b[39m\u001b[90m.\u001b[39m\u001b[90m 32ms\u001b[39m \u001b[32;1mDONE\u001b[39;22m\n",
      "\n",
      "  \u001b[37;44m INFO \u001b[39;49m Preparing database.  \n",
      "\n",
      "  Creating migration table \u001b[90m.\u001b[39m\u001b[90m.\u001b[39m\u001b[90m.\u001b[39m\u001b[90m.\u001b[39m\u001b[90m.\u001b[39m\u001b[90m.\u001b[39m\u001b[90m.\u001b[39m\u001b[90m.\u001b[39m\u001b[90m.\u001b[39m\u001b[90m.\u001b[39m\u001b[90m.\u001b[39m\u001b[90m.\u001b[39m\u001b[90m.\u001b[39m\u001b[90m.\u001b[39m\u001b[90m.\u001b[39m\u001b[90m.\u001b[39m\u001b[90m.\u001b[39m\u001b[90m.\u001b[39m\u001b[90m.\u001b[39m\u001b[90m.\u001b[39m\u001b[90m.\u001b[39m\u001b[90m.\u001b[39m\u001b[90m.\u001b[39m\u001b[90m.\u001b[39m\u001b[90m.\u001b[39m\u001b[90m.\u001b[39m\u001b[90m.\u001b[39m\u001b[90m.\u001b[39m\u001b[90m.\u001b[39m\u001b[90m.\u001b[39m\u001b[90m.\u001b[39m\u001b[90m.\u001b[39m\u001b[90m.\u001b[39m\u001b[90m.\u001b[39m\u001b[90m.\u001b[39m\u001b[90m.\u001b[39m\u001b[90m.\u001b[39m\u001b[90m.\u001b[39m\u001b[90m.\u001b[39m\u001b[90m.\u001b[39m\u001b[90m.\u001b[39m\u001b[90m 14ms\u001b[39m \u001b[32;1mDONE\u001b[39;22m\n",
      "\n",
      "  \u001b[37;44m INFO \u001b[39;49m Running migrations.  \n",
      "\n",
      "  2014_10_12_000000_create_users_table \u001b[90m.\u001b[39m\u001b[90m.\u001b[39m\u001b[90m.\u001b[39m\u001b[90m.\u001b[39m\u001b[90m.\u001b[39m\u001b[90m.\u001b[39m\u001b[90m.\u001b[39m\u001b[90m.\u001b[39m\u001b[90m.\u001b[39m\u001b[90m.\u001b[39m\u001b[90m.\u001b[39m\u001b[90m.\u001b[39m\u001b[90m.\u001b[39m\u001b[90m.\u001b[39m\u001b[90m.\u001b[39m\u001b[90m.\u001b[39m\u001b[90m.\u001b[39m\u001b[90m.\u001b[39m\u001b[90m.\u001b[39m\u001b[90m.\u001b[39m\u001b[90m.\u001b[39m\u001b[90m.\u001b[39m\u001b[90m.\u001b[39m\u001b[90m.\u001b[39m\u001b[90m.\u001b[39m\u001b[90m.\u001b[39m\u001b[90m.\u001b[39m\u001b[90m.\u001b[39m\u001b[90m.\u001b[39m\u001b[90m 34ms\u001b[39m \u001b[32;1mDONE\u001b[39;22m\n",
      "  2014_10_12_100000_create_password_resets_table \u001b[90m.\u001b[39m\u001b[90m.\u001b[39m\u001b[90m.\u001b[39m\u001b[90m.\u001b[39m\u001b[90m.\u001b[39m\u001b[90m.\u001b[39m\u001b[90m.\u001b[39m\u001b[90m.\u001b[39m\u001b[90m.\u001b[39m\u001b[90m.\u001b[39m\u001b[90m.\u001b[39m\u001b[90m.\u001b[39m\u001b[90m.\u001b[39m\u001b[90m.\u001b[39m\u001b[90m.\u001b[39m\u001b[90m.\u001b[39m\u001b[90m.\u001b[39m\u001b[90m.\u001b[39m\u001b[90m.\u001b[39m\u001b[90m 26ms\u001b[39m \u001b[32;1mDONE\u001b[39;22m\n",
      "  2019_08_19_000000_create_failed_jobs_table \u001b[90m.\u001b[39m\u001b[90m.\u001b[39m\u001b[90m.\u001b[39m\u001b[90m.\u001b[39m\u001b[90m.\u001b[39m\u001b[90m.\u001b[39m\u001b[90m.\u001b[39m\u001b[90m.\u001b[39m\u001b[90m.\u001b[39m\u001b[90m.\u001b[39m\u001b[90m.\u001b[39m\u001b[90m.\u001b[39m\u001b[90m.\u001b[39m\u001b[90m.\u001b[39m\u001b[90m.\u001b[39m\u001b[90m.\u001b[39m\u001b[90m.\u001b[39m\u001b[90m.\u001b[39m\u001b[90m.\u001b[39m\u001b[90m.\u001b[39m\u001b[90m.\u001b[39m\u001b[90m.\u001b[39m\u001b[90m.\u001b[39m\u001b[90m 25ms\u001b[39m \u001b[32;1mDONE\u001b[39;22m\n",
      "  2019_12_14_000001_create_personal_access_tokens_table \u001b[90m.\u001b[39m\u001b[90m.\u001b[39m\u001b[90m.\u001b[39m\u001b[90m.\u001b[39m\u001b[90m.\u001b[39m\u001b[90m.\u001b[39m\u001b[90m.\u001b[39m\u001b[90m.\u001b[39m\u001b[90m.\u001b[39m\u001b[90m.\u001b[39m\u001b[90m.\u001b[39m\u001b[90m.\u001b[39m\u001b[90m 44ms\u001b[39m \u001b[32;1mDONE\u001b[39;22m\n",
      "  2022_11_26_090903_create_comments_table \u001b[90m.\u001b[39m\u001b[90m.\u001b[39m\u001b[90m.\u001b[39m\u001b[90m.\u001b[39m\u001b[90m.\u001b[39m\u001b[90m.\u001b[39m\u001b[90m.\u001b[39m\u001b[90m.\u001b[39m\u001b[90m.\u001b[39m\u001b[90m.\u001b[39m\u001b[90m.\u001b[39m\u001b[90m.\u001b[39m\u001b[90m.\u001b[39m\u001b[90m.\u001b[39m\u001b[90m.\u001b[39m\u001b[90m.\u001b[39m\u001b[90m.\u001b[39m\u001b[90m.\u001b[39m\u001b[90m.\u001b[39m\u001b[90m.\u001b[39m\u001b[90m.\u001b[39m\u001b[90m.\u001b[39m\u001b[90m.\u001b[39m\u001b[90m.\u001b[39m\u001b[90m.\u001b[39m\u001b[90m.\u001b[39m\u001b[90m 15ms\u001b[39m \u001b[32;1mDONE\u001b[39;22m\n",
      "  2022_12_03_201835_create_books_table \u001b[90m.\u001b[39m\u001b[90m.\u001b[39m\u001b[90m.\u001b[39m\u001b[90m.\u001b[39m\u001b[90m.\u001b[39m\u001b[90m.\u001b[39m\u001b[90m.\u001b[39m\u001b[90m.\u001b[39m\u001b[90m.\u001b[39m\u001b[90m.\u001b[39m\u001b[90m.\u001b[39m\u001b[90m.\u001b[39m\u001b[90m.\u001b[39m\u001b[90m.\u001b[39m\u001b[90m.\u001b[39m\u001b[90m.\u001b[39m\u001b[90m.\u001b[39m\u001b[90m.\u001b[39m\u001b[90m.\u001b[39m\u001b[90m.\u001b[39m\u001b[90m.\u001b[39m\u001b[90m.\u001b[39m\u001b[90m.\u001b[39m\u001b[90m.\u001b[39m\u001b[90m.\u001b[39m\u001b[90m.\u001b[39m\u001b[90m.\u001b[39m\u001b[90m.\u001b[39m\u001b[90m.\u001b[39m\u001b[90m 12ms\u001b[39m \u001b[32;1mDONE\u001b[39;22m\n",
      "  2022_12_28_155551_create_orders_table \u001b[90m.\u001b[39m\u001b[90m.\u001b[39m\u001b[90m.\u001b[39m\u001b[90m.\u001b[39m\u001b[90m.\u001b[39m\u001b[90m.\u001b[39m\u001b[90m.\u001b[39m\u001b[90m.\u001b[39m\u001b[90m.\u001b[39m\u001b[90m.\u001b[39m\u001b[90m.\u001b[39m\u001b[90m.\u001b[39m\u001b[90m.\u001b[39m\u001b[90m.\u001b[39m\u001b[90m.\u001b[39m\u001b[90m.\u001b[39m\u001b[90m.\u001b[39m\u001b[90m.\u001b[39m\u001b[90m.\u001b[39m\u001b[90m.\u001b[39m\u001b[90m.\u001b[39m\u001b[90m.\u001b[39m\u001b[90m.\u001b[39m\u001b[90m.\u001b[39m\u001b[90m.\u001b[39m\u001b[90m.\u001b[39m\u001b[90m.\u001b[39m\u001b[90m.\u001b[39m\u001b[90m 14ms\u001b[39m \u001b[32;1mDONE\u001b[39;22m\n",
      "  2022_12_28_163305_create_repair_requests_table \u001b[90m.\u001b[39m\u001b[90m.\u001b[39m\u001b[90m.\u001b[39m\u001b[90m.\u001b[39m\u001b[90m.\u001b[39m\u001b[90m.\u001b[39m\u001b[90m.\u001b[39m\u001b[90m.\u001b[39m\u001b[90m.\u001b[39m\u001b[90m.\u001b[39m\u001b[90m.\u001b[39m\u001b[90m.\u001b[39m\u001b[90m.\u001b[39m\u001b[90m.\u001b[39m\u001b[90m.\u001b[39m\u001b[90m.\u001b[39m\u001b[90m.\u001b[39m\u001b[90m.\u001b[39m\u001b[90m.\u001b[39m\u001b[90m 12ms\u001b[39m \u001b[32;1mDONE\u001b[39;22m\n",
      "\n"
     ]
    }
   ],
   "source": [
    "! php artisan migrate:fresh"
   ]
  },
  {
   "cell_type": "code",
   "execution_count": 56,
   "metadata": {},
   "outputs": [
    {
     "name": "stdout",
     "output_type": "stream",
     "text": [
      "\n",
      "  \u001b[37;44m INFO \u001b[39;49m Seeding database.  \n",
      "\n",
      "  Database\\Seeders\\UsersSeeder \u001b[90m.......................................\u001b[39m \u001b[33;1mRUNNING\u001b[39;22m  \n",
      "  Database\\Seeders\\UsersSeeder \u001b[90m................................\u001b[39m \u001b[90m329.74 ms\u001b[39m \u001b[32;1mDONE\u001b[39;22m  \n",
      "\n",
      "  Database\\Seeders\\RepairRequestsSeeder \u001b[90m..............................\u001b[39m \u001b[33;1mRUNNING\u001b[39;22m  \n",
      "  Database\\Seeders\\RepairRequestsSeeder \u001b[90m.........................\u001b[39m \u001b[90m6.98 ms\u001b[39m \u001b[32;1mDONE\u001b[39;22m  \n",
      "\n",
      "  Database\\Seeders\\OrdersSeeder \u001b[90m......................................\u001b[39m \u001b[33;1mRUNNING\u001b[39;22m  \n",
      "  Database\\Seeders\\OrdersSeeder \u001b[90m.................................\u001b[39m \u001b[90m3.12 ms\u001b[39m \u001b[32;1mDONE\u001b[39;22m  \n",
      "\n"
     ]
    }
   ],
   "source": [
    "! php artisan db:seed"
   ]
  },
  {
   "cell_type": "code",
   "execution_count": 57,
   "metadata": {},
   "outputs": [
    {
     "name": "stdout",
     "output_type": "stream",
     "text": [
      "mysqldump: [Warning] Using a password on the command line interface can be insecure.\r\n"
     ]
    }
   ],
   "source": [
    "! mysqldump -h127.0.0.1 -u root --password=root123 test > tests_codeception/_data/dump.sql"
   ]
  },
  {
   "cell_type": "code",
   "execution_count": 58,
   "metadata": {},
   "outputs": [
    {
     "name": "stdout",
     "output_type": "stream",
     "text": [
      "\u001b[K\u001b[?25hm##################\u001b[0m) ⠴ reify:esbuild-linux-64: \u001b[32;40mhttp\u001b[0m \u001b[35mfetch\u001b[0m GET 200 https://regis\u001b[0m\u001b[Kpmjs.o\u001b[0m\u001b[K\n",
      "added 93 packages, and audited 94 packages in 37s\n",
      "\n",
      "20 packages are looking for funding\n",
      "  run `npm fund` for details\n",
      "\n",
      "found \u001b[32m\u001b[1m0\u001b[22m\u001b[39m vulnerabilities\n",
      "\u001b[37;40mnpm\u001b[0m \u001b[0m\u001b[36;40mnotice\u001b[0m\u001b[35m\u001b[0m \n",
      "\u001b[0m\u001b[37;40mnpm\u001b[0m \u001b[0m\u001b[36;40mnotice\u001b[0m\u001b[35m\u001b[0m New \u001b[31mmajor\u001b[39m version of npm available! \u001b[31m8.19.1\u001b[39m -> \u001b[32m9.2.0\u001b[39m\n",
      "\u001b[0m\u001b[37;40mnpm\u001b[0m \u001b[0m\u001b[36;40mnotice\u001b[0m\u001b[35m\u001b[0m Changelog: \u001b[36mhttps://github.com/npm/cli/releases/tag/v9.2.0\u001b[39m\n",
      "\u001b[0m\u001b[37;40mnpm\u001b[0m \u001b[0m\u001b[36;40mnotice\u001b[0m\u001b[35m\u001b[0m Run \u001b[32mnpm install -g npm@9.2.0\u001b[39m to update!\n",
      "\u001b[0m\u001b[37;40mnpm\u001b[0m \u001b[0m\u001b[36;40mnotice\u001b[0m\u001b[35m\u001b[0m \n",
      "\u001b[0m"
     ]
    }
   ],
   "source": [
    "! npm install"
   ]
  },
  {
   "cell_type": "code",
   "execution_count": 59,
   "metadata": {},
   "outputs": [
    {
     "name": "stdout",
     "output_type": "stream",
     "text": [
      "\n",
      "> build\n",
      "> vite build\n",
      "\n",
      "\u001b[36mvite v3.2.4 \u001b[32mbuilding for production...\u001b[36m\u001b[39m\n",
      "\u001b[2K\u001b[1Gtransforming (1) \u001b[2mresources/js/app.js\u001b[22m\u001b[2K\u001b[1Gtransforming (3) \u001b[2mresources/js/bootstrap.js\u001b[22m\u001b[2K\u001b[1Gtransforming (8) \u001b[2mnode_modules/axios/lib/axios.js\u001b[22m\u001b[2K\u001b[1Gtransforming (23) \u001b[2mnode_modules/axios/lib/core/dispatchRequest.js\u001b[22m\u001b[2K\u001b[1Gtransforming (35) \u001b[2mnode_modules/axios/lib/core/transformData.js\u001b[22m\u001b[2K\u001b[1G\u001b[32m✓\u001b[39m 49 modules transformed.\n",
      "\u001b[2K\u001b[1Grendering chunks (1)...\u001b[2K\u001b[1Grendering chunks (2)...\u001b[2K\u001b[1G\u001b[90m\u001b[37m\u001b[2mpublic/build/\u001b[22m\u001b[90m\u001b[39m\u001b[32mmanifest.json            \u001b[39m \u001b[2m0.25 KiB\u001b[22m\n",
      "\u001b[90m\u001b[37m\u001b[2mpublic/build/\u001b[22m\u001b[90m\u001b[39m\u001b[35massets/app.621ba224.css  \u001b[39m \u001b[2m27.33 KiB / gzip: 5.42 KiB\u001b[22m\n",
      "\u001b[90m\u001b[37m\u001b[2mpublic/build/\u001b[22m\u001b[90m\u001b[39m\u001b[36massets/app.d426e523.js   \u001b[39m \u001b[2m135.11 KiB / gzip: 49.03 KiB\u001b[22m\n"
     ]
    }
   ],
   "source": [
    "! npm run build"
   ]
  },
  {
   "cell_type": "code",
   "execution_count": 60,
   "metadata": {},
   "outputs": [
    {
     "name": "stdout",
     "output_type": "stream",
     "text": [
      "\n",
      "  \u001b[30;42;1m PASS \u001b[39;49;22m\u001b[39m Tests\\Unit\\ExampleTest\u001b[39m\n",
      "  \u001b[32;1m✓\u001b[39;22m\u001b[39m \u001b[2mthat true is true\u001b[22m\u001b[39m\n",
      "\n",
      "  \u001b[30;42;1m PASS \u001b[39;49;22m\u001b[39m Tests\\Feature\\Auth\\AuthenticationTest\u001b[39m\n",
      "  \u001b[32;1m✓\u001b[39;22m\u001b[39m \u001b[2mlogin screen can be rendered\u001b[22m\u001b[39m\n",
      "  \u001b[32;1m✓\u001b[39;22m\u001b[39m \u001b[2musers can authenticate using the login screen\u001b[22m\u001b[39m\n",
      "  \u001b[32;1m✓\u001b[39;22m\u001b[39m \u001b[2musers can not authenticate with invalid password\u001b[22m\u001b[39m\n",
      "\n",
      "  \u001b[30;42;1m PASS \u001b[39;49;22m\u001b[39m Tests\\Feature\\Auth\\EmailVerificationTest\u001b[39m\n",
      "  \u001b[32;1m✓\u001b[39;22m\u001b[39m \u001b[2memail verification screen can be rendered\u001b[22m\u001b[39m\n",
      "  \u001b[32;1m✓\u001b[39;22m\u001b[39m \u001b[2memail can be verified\u001b[22m\u001b[39m\n",
      "  \u001b[32;1m✓\u001b[39;22m\u001b[39m \u001b[2memail is not verified with invalid hash\u001b[22m\u001b[39m\n",
      "\n",
      "  \u001b[30;42;1m PASS \u001b[39;49;22m\u001b[39m Tests\\Feature\\Auth\\PasswordConfirmationTest\u001b[39m\n",
      "  \u001b[32;1m✓\u001b[39;22m\u001b[39m \u001b[2mconfirm password screen can be rendered\u001b[22m\u001b[39m\n",
      "  \u001b[32;1m✓\u001b[39;22m\u001b[39m \u001b[2mpassword can be confirmed\u001b[22m\u001b[39m\n",
      "  \u001b[32;1m✓\u001b[39;22m\u001b[39m \u001b[2mpassword is not confirmed with invalid password\u001b[22m\u001b[39m\n",
      "\n",
      "  \u001b[30;42;1m PASS \u001b[39;49;22m\u001b[39m Tests\\Feature\\Auth\\PasswordResetTest\u001b[39m\n",
      "  \u001b[32;1m✓\u001b[39;22m\u001b[39m \u001b[2mreset password link screen can be rendered\u001b[22m\u001b[39m\n",
      "  \u001b[32;1m✓\u001b[39;22m\u001b[39m \u001b[2mreset password link can be requested\u001b[22m\u001b[39m\n",
      "  \u001b[32;1m✓\u001b[39;22m\u001b[39m \u001b[2mreset password screen can be rendered\u001b[22m\u001b[39m\n",
      "  \u001b[32;1m✓\u001b[39;22m\u001b[39m \u001b[2mpassword can be reset with valid token\u001b[22m\u001b[39m\n",
      "\n",
      "  \u001b[30;42;1m PASS \u001b[39;49;22m\u001b[39m Tests\\Feature\\Auth\\PasswordUpdateTest\u001b[39m\n",
      "  \u001b[32;1m✓\u001b[39;22m\u001b[39m \u001b[2mpassword can be updated\u001b[22m\u001b[39m\n",
      "  \u001b[32;1m✓\u001b[39;22m\u001b[39m \u001b[2mcorrect password must be provided to update password\u001b[22m\u001b[39m\n",
      "\n",
      "  \u001b[30;42;1m PASS \u001b[39;49;22m\u001b[39m Tests\\Feature\\Auth\\RegistrationTest\u001b[39m\n",
      "  \u001b[32;1m✓\u001b[39;22m\u001b[39m \u001b[2mregistration screen can be rendered\u001b[22m\u001b[39m\n",
      "  \u001b[32;1m✓\u001b[39;22m\u001b[39m \u001b[2mnew users can register\u001b[22m\u001b[39m\n",
      "\n",
      "  \u001b[30;42;1m PASS \u001b[39;49;22m\u001b[39m Tests\\Feature\\ExampleTest\u001b[39m\n",
      "  \u001b[32;1m✓\u001b[39;22m\u001b[39m \u001b[2mthe application returns a successful response\u001b[22m\u001b[39m\n",
      "\n",
      "  \u001b[30;42;1m PASS \u001b[39;49;22m\u001b[39m Tests\\Feature\\ProfileTest\u001b[39m\n",
      "  \u001b[32;1m✓\u001b[39;22m\u001b[39m \u001b[2mprofile page is displayed\u001b[22m\u001b[39m\n",
      "  \u001b[32;1m✓\u001b[39;22m\u001b[39m \u001b[2mprofile information can be updated\u001b[22m\u001b[39m\n",
      "  \u001b[32;1m✓\u001b[39;22m\u001b[39m \u001b[2memail verification status is unchanged when the email address is unchanged\u001b[22m\u001b[39m\n",
      "  \u001b[32;1m✓\u001b[39;22m\u001b[39m \u001b[2muser can delete their account\u001b[22m\u001b[39m\n",
      "  \u001b[32;1m✓\u001b[39;22m\u001b[39m \u001b[2mcorrect password must be provided to delete account\u001b[22m\u001b[39m\n",
      "\n",
      "  \u001b[37;1mTests:  \u001b[39;22m\u001b[32;1m24 passed\u001b[39;22m\n",
      "  \u001b[37;1mTime:   \u001b[39;22m\u001b[39m2.13s\u001b[39m\n",
      "\n",
      "\n"
     ]
    }
   ],
   "source": [
    "! php artisan test"
   ]
  },
  {
   "cell_type": "code",
   "execution_count": 61,
   "metadata": {},
   "outputs": [
    {
     "name": "stdout",
     "output_type": "stream",
     "text": [
      "\n",
      "   INFO  Server running on [http://127.0.0.1:8888].  \n",
      "\n",
      "  Press Ctrl+C to stop the server\n",
      "\n"
     ]
    }
   ],
   "source": [
    "import subprocess\n",
    "artisanServe = subprocess.Popen(['php', 'artisan', 'serve', '--port', '8888'])"
   ]
  },
  {
   "cell_type": "code",
   "execution_count": 65,
   "metadata": {},
   "outputs": [
    {
     "name": "stdout",
     "output_type": "stream",
     "text": [
      "Codeception PHP Testing Framework v5.0.4 https://helpukrainewin.org\n",
      "\n",
      "\u001b[1mTestsCodeception.Acceptance Tests (5) \u001b[22m------------------------------------------\n",
      "\u001b[32;1m✔\u001b[39;22m \u001b[35;1mTest00_HomepageCest:\u001b[39;22m See Laravel links on homepage \u001b[32m(0.10s)\u001b[39m\n",
      "- \u001b[35;1mTest01_CommentsCest:\u001b[39;22m See comments from DB displayed on page  2023-01-10 02:58:57 ................................................... ~ 0s\n",
      "\u001b[32;1m✔\u001b[39;22m \u001b[35;1mTest01_CommentsCest:\u001b[39;22m See comments from DB displayed on page \u001b[32m(0.15s)\u001b[39m\n",
      "- \u001b[35;1mTest02_LoginCest:\u001b[39;22m Login with existing client  2023-01-10 02:58:58 ................................................... ~ 0s\n",
      "  2023-01-10 02:58:58 ................................................... ~ 0s\n",
      "\u001b[32;1m✔\u001b[39;22m \u001b[35;1mTest02_LoginCest:\u001b[39;22m Login with existing client \u001b[32m(0.27s)\u001b[39m\n",
      "- \u001b[35;1mTest03_RequestRepairCest:\u001b[39;22m Request a repair as a user  2023-01-10 02:58:59 ................................................... ~ 0s\n",
      "  2023-01-10 02:58:59 ................................................... ~ 0s\n",
      "  2023-01-10 02:58:59 ................................................... ~ 0s\n",
      "  2023-01-10 02:58:59 ................................................... ~ 0s\n",
      "\u001b[32;1m✔\u001b[39;22m \u001b[35;1mTest03_RequestRepairCest:\u001b[39;22m Request a repair as a user \u001b[32m(0.41s)\u001b[39m\n",
      "- \u001b[35;1mTest04_RequestedRepairsCest:\u001b[39;22m See my requested repairs  2023-01-10 02:58:59 ................................................... ~ 1s\n",
      "  2023-01-10 02:59:00 ................................................... ~ 0s\n",
      "  2023-01-10 02:59:00 ................................................... ~ 0s\n",
      "  2023-01-10 02:59:00 ................................................... ~ 0s\n",
      "  2023-01-10 02:59:00 ................................................... ~ 0s\n",
      "  2023-01-10 02:59:00 ................................................... ~ 0s\n",
      "  2023-01-10 02:59:00 ................................................... ~ 0s\n",
      "\u001b[32;1m✔\u001b[39;22m \u001b[35;1mTest04_RequestedRepairsCest:\u001b[39;22m See my requested repairs \u001b[32m(0.24s)\u001b[39m\n",
      "--------------------------------------------------------------------------------\n",
      "Time: 00:04.153, Memory: 14.00 MB\n",
      "\n",
      "\u001b[30;42mOK (5 tests, 34 assertions)\u001b[39;49m\n",
      "  2023-01-10 02:59:00 ................................................... ~ 0s\n",
      "  2023-01-10 02:59:00 ................................................... ~ 0s\n",
      "  2023-01-10 02:59:00 ................................................... ~ 0s\n",
      "  2023-01-10 02:59:00 ................................................... ~ 0s\n",
      "  2023-01-10 02:59:00 ................................................... ~ 0s\n"
     ]
    }
   ],
   "source": [
    "! vendor/bin/codecept run"
   ]
  },
  {
   "cell_type": "code",
   "execution_count": 45,
   "metadata": {},
   "outputs": [
    {
     "name": "stdout",
     "output_type": "stream",
     "text": [
      "php8.1: no process found\r\n"
     ]
    }
   ],
   "source": [
    "! killall php php8.1"
   ]
  },
  {
   "cell_type": "code",
   "execution_count": 29,
   "metadata": {},
   "outputs": [
    {
     "name": "stdout",
     "output_type": "stream",
     "text": [
      "/home/student/php_2022_witryna_serwisu_samochodowego/01_witryna_serwisu_samochodowego\n"
     ]
    }
   ],
   "source": [
    "%cd .."
   ]
  },
  {
   "cell_type": "markdown",
   "metadata": {},
   "source": [
    "Stop database:"
   ]
  },
  {
   "cell_type": "code",
   "execution_count": 44,
   "metadata": {},
   "outputs": [
    {
     "name": "stdout",
     "output_type": "stream",
     "text": [
      "mysql\r\n"
     ]
    }
   ],
   "source": [
    "! docker container stop mysql"
   ]
  },
  {
   "cell_type": "code",
   "execution_count": null,
   "metadata": {},
   "outputs": [],
   "source": []
  }
 ],
 "metadata": {
  "kernelspec": {
   "display_name": "Python 3 (ipykernel)",
   "language": "python",
   "name": "python3"
  },
  "language_info": {
   "codemirror_mode": {
    "name": "ipython",
    "version": 3
   },
   "file_extension": ".py",
   "mimetype": "text/x-python",
   "name": "python",
   "nbconvert_exporter": "python",
   "pygments_lexer": "ipython3",
   "version": "3.10.6"
  }
 },
 "nbformat": 4,
 "nbformat_minor": 4
}
